{
 "cells": [
  {
   "cell_type": "markdown",
   "id": "0cb8850d",
   "metadata": {},
   "source": [
    "# Project 3 - Web APIs & NLP"
   ]
  },
  {
   "cell_type": "markdown",
   "id": "9a4781c9",
   "metadata": {},
   "source": [
    "## Part Two: Exploratory Data Analysis"
   ]
  },
  {
   "cell_type": "markdown",
   "id": "de8d7215",
   "metadata": {},
   "source": [
    "### Contents:\n",
    "* Import Libraries\n",
    "* Exploratory Data Analysis\n",
    "    - Load in Datasets\n",
    "        - Date range of dataset\n",
    "        - Summary Statistics\n",
    "        - Outcomes from Summary Statistics\n",
    "* Frequently Occurring Words\n",
    "    - Single Gram Words Visualizations\n",
    "    - Bigram Words Visualizations"
   ]
  },
  {
   "cell_type": "markdown",
   "id": "7016c9a1",
   "metadata": {},
   "source": [
    "### Import Libraries"
   ]
  },
  {
   "cell_type": "code",
   "execution_count": 1,
   "id": "82010851",
   "metadata": {},
   "outputs": [],
   "source": [
    "import pandas as pd\n",
    "import numpy as np\n",
    "import seaborn as sns\n",
    "import matplotlib.pyplot as plt\n",
    "\n",
    "\n",
    "#graphing \n",
    "import matplotlib.pyplot as plt\n",
    "import seaborn as sns\n",
    "%matplotlib inline\n",
    "\n",
    "#using nlp \n",
    "from sklearn.feature_extraction.text import CountVectorizer\n",
    "from sklearn.feature_extraction import _stop_words\n",
    "from nltk.tokenize import RegexpTokenizer\n",
    "from nltk.stem import WordNetLemmatizer\n",
    "from nltk.stem.porter import PorterStemmer\n",
    "from nltk.corpus import stopwords "
   ]
  },
  {
   "cell_type": "markdown",
   "id": "f90cc1a3",
   "metadata": {},
   "source": [
    "### Exploratory Data Analysis\n",
    "\n",
    "Importing our clean dataframes, we can now explore our data further. First, I will show the date range for the data scraped. Then I will want to get summary statistics for each dataframe. Lastly I will want to determine the frequently occuring words for each dataframe. "
   ]
  },
  {
   "cell_type": "markdown",
   "id": "219d7c12",
   "metadata": {},
   "source": [
    "#### Load in datasets"
   ]
  },
  {
   "cell_type": "code",
   "execution_count": 2,
   "id": "9fecfd85",
   "metadata": {},
   "outputs": [],
   "source": [
    "mbti = pd.read_csv('./datasets/mbti_clean.csv')\n",
    "astro = pd.read_csv('./datasets/astrology_clean.csv')"
   ]
  },
  {
   "cell_type": "code",
   "execution_count": 3,
   "id": "621fb72d",
   "metadata": {},
   "outputs": [],
   "source": [
    "#import the combined subreddit data\n",
    "subreddit = pd.read_csv('./datasets/subreddit_combined.csv')"
   ]
  },
  {
   "cell_type": "markdown",
   "id": "f79058cc",
   "metadata": {},
   "source": [
    "#### Date Range for data scraped"
   ]
  },
  {
   "cell_type": "code",
   "execution_count": 4,
   "id": "c9c5ee5a",
   "metadata": {},
   "outputs": [
    {
     "data": {
      "text/plain": [
       "1324    1657401382\n",
       "1323    1657402002\n",
       "1322    1657402145\n",
       "1321    1657403123\n",
       "1320    1657403804\n",
       "           ...    \n",
       "4       1658557876\n",
       "3       1658558060\n",
       "2       1658559322\n",
       "1       1658560467\n",
       "0       1658560509\n",
       "Name: created_utc, Length: 1325, dtype: int64"
      ]
     },
     "execution_count": 4,
     "metadata": {},
     "output_type": "execute_result"
    }
   ],
   "source": [
    "mbti['created_utc'].sort_values()"
   ]
  },
  {
   "cell_type": "markdown",
   "id": "0cb18d27",
   "metadata": {},
   "source": [
    "The data for r/mbti ranges from Sunday, 10 July 2022 to Saturday, July 23, 2022."
   ]
  },
  {
   "cell_type": "code",
   "execution_count": 5,
   "id": "9929c618",
   "metadata": {},
   "outputs": [
    {
     "data": {
      "text/plain": [
       "1778    1653452570\n",
       "1777    1653453207\n",
       "1776    1653454096\n",
       "1775    1653455877\n",
       "1774    1653456049\n",
       "           ...    \n",
       "4       1658547912\n",
       "3       1658548308\n",
       "2       1658551378\n",
       "1       1658551502\n",
       "0       1658558627\n",
       "Name: created_utc, Length: 1779, dtype: int64"
      ]
     },
     "execution_count": 5,
     "metadata": {},
     "output_type": "execute_result"
    }
   ],
   "source": [
    "astro['created_utc'].sort_values()"
   ]
  },
  {
   "cell_type": "markdown",
   "id": "7ae6776b",
   "metadata": {},
   "source": [
    "The data for r/Horoscope ranges from Wednesday, 25 May 2022 to Friday, 22 July 2022."
   ]
  },
  {
   "cell_type": "markdown",
   "id": "a75da4e6",
   "metadata": {},
   "source": [
    "#### Summary Statistics\n",
    "In general, summary statistics will provide information about our two dataframes. We will use the info and describe methods from the Pandas library to get our information.\n",
    "\n",
    "Subreddit 1: mbti"
   ]
  },
  {
   "cell_type": "code",
   "execution_count": 6,
   "id": "08e2d122",
   "metadata": {},
   "outputs": [],
   "source": [
    "#remove created_utc as we don't need it anymore \n",
    "mbti = mbti.drop('created_utc',axis=1)"
   ]
  },
  {
   "cell_type": "code",
   "execution_count": 7,
   "id": "e352302f",
   "metadata": {},
   "outputs": [
    {
     "name": "stdout",
     "output_type": "stream",
     "text": [
      "<class 'pandas.core.frame.DataFrame'>\n",
      "RangeIndex: 1325 entries, 0 to 1324\n",
      "Data columns (total 4 columns):\n",
      " #   Column     Non-Null Count  Dtype \n",
      "---  ------     --------------  ----- \n",
      " 0   title      1325 non-null   object\n",
      " 1   author     1325 non-null   object\n",
      " 2   selftext   1325 non-null   object\n",
      " 3   subreddit  1325 non-null   object\n",
      "dtypes: object(4)\n",
      "memory usage: 41.5+ KB\n"
     ]
    }
   ],
   "source": [
    "#checking the info for mbti\n",
    "mbti.info()"
   ]
  },
  {
   "cell_type": "markdown",
   "id": "2f330a2a",
   "metadata": {},
   "source": [
    "Looking at the mbti dataset, there are 1325 entries and all of the datatypes are in object form. "
   ]
  },
  {
   "cell_type": "code",
   "execution_count": 8,
   "id": "4e3e53b7",
   "metadata": {},
   "outputs": [
    {
     "data": {
      "text/html": [
       "<div>\n",
       "<style scoped>\n",
       "    .dataframe tbody tr th:only-of-type {\n",
       "        vertical-align: middle;\n",
       "    }\n",
       "\n",
       "    .dataframe tbody tr th {\n",
       "        vertical-align: top;\n",
       "    }\n",
       "\n",
       "    .dataframe thead th {\n",
       "        text-align: right;\n",
       "    }\n",
       "</style>\n",
       "<table border=\"1\" class=\"dataframe\">\n",
       "  <thead>\n",
       "    <tr style=\"text-align: right;\">\n",
       "      <th></th>\n",
       "      <th>count</th>\n",
       "      <th>unique</th>\n",
       "      <th>top</th>\n",
       "      <th>freq</th>\n",
       "    </tr>\n",
       "  </thead>\n",
       "  <tbody>\n",
       "    <tr>\n",
       "      <th>title</th>\n",
       "      <td>1325</td>\n",
       "      <td>1257</td>\n",
       "      <td>Majestic girl</td>\n",
       "      <td>20</td>\n",
       "    </tr>\n",
       "    <tr>\n",
       "      <th>author</th>\n",
       "      <td>1325</td>\n",
       "      <td>819</td>\n",
       "      <td>Hydra-Sagaria</td>\n",
       "      <td>52</td>\n",
       "    </tr>\n",
       "    <tr>\n",
       "      <th>selftext</th>\n",
       "      <td>1325</td>\n",
       "      <td>1223</td>\n",
       "      <td>[removed]</td>\n",
       "      <td>85</td>\n",
       "    </tr>\n",
       "    <tr>\n",
       "      <th>subreddit</th>\n",
       "      <td>1325</td>\n",
       "      <td>1</td>\n",
       "      <td>mbti</td>\n",
       "      <td>1325</td>\n",
       "    </tr>\n",
       "  </tbody>\n",
       "</table>\n",
       "</div>"
      ],
      "text/plain": [
       "          count unique            top  freq\n",
       "title      1325   1257  Majestic girl    20\n",
       "author     1325    819  Hydra-Sagaria    52\n",
       "selftext   1325   1223      [removed]    85\n",
       "subreddit  1325      1           mbti  1325"
      ]
     },
     "execution_count": 8,
     "metadata": {},
     "output_type": "execute_result"
    }
   ],
   "source": [
    "#checking the stats for mbti\n",
    "mbti.describe().T"
   ]
  },
  {
   "cell_type": "markdown",
   "id": "25b55de4",
   "metadata": {},
   "source": [
    "Looking at the mbti dataset, the dataset seems ordinary. We also noticed that the dataset has 20 titles that are similar, 52 posts were from a User called Hydra-Sagaria, and there is 85 removed content. We will need to explore further with visualizations to fully determine the irregulars in this dataset."
   ]
  },
  {
   "cell_type": "markdown",
   "id": "e523e926",
   "metadata": {},
   "source": [
    "Subreddit 2: astrology"
   ]
  },
  {
   "cell_type": "code",
   "execution_count": 9,
   "id": "d3190a4b",
   "metadata": {},
   "outputs": [],
   "source": [
    "#remove created_utc as we don't need it anymore \n",
    "astro = astro.drop('created_utc',axis=1)"
   ]
  },
  {
   "cell_type": "code",
   "execution_count": 10,
   "id": "a016aba9",
   "metadata": {},
   "outputs": [
    {
     "name": "stdout",
     "output_type": "stream",
     "text": [
      "<class 'pandas.core.frame.DataFrame'>\n",
      "RangeIndex: 1779 entries, 0 to 1778\n",
      "Data columns (total 4 columns):\n",
      " #   Column     Non-Null Count  Dtype \n",
      "---  ------     --------------  ----- \n",
      " 0   title      1779 non-null   object\n",
      " 1   author     1779 non-null   object\n",
      " 2   selftext   1779 non-null   object\n",
      " 3   subreddit  1779 non-null   object\n",
      "dtypes: object(4)\n",
      "memory usage: 55.7+ KB\n"
     ]
    }
   ],
   "source": [
    "#Checking the info for astrology\n",
    "astro.info()"
   ]
  },
  {
   "cell_type": "markdown",
   "id": "7af7b859",
   "metadata": {},
   "source": [
    "Looking at the astrology dataset, there are 1779 entries and also all of the datatypes are in object form. There is no missing data in selftext feature as like subreddit 1. We will have to determine what to do with this feature as well later on."
   ]
  },
  {
   "cell_type": "code",
   "execution_count": 11,
   "id": "044fca5f",
   "metadata": {},
   "outputs": [
    {
     "data": {
      "text/html": [
       "<div>\n",
       "<style scoped>\n",
       "    .dataframe tbody tr th:only-of-type {\n",
       "        vertical-align: middle;\n",
       "    }\n",
       "\n",
       "    .dataframe tbody tr th {\n",
       "        vertical-align: top;\n",
       "    }\n",
       "\n",
       "    .dataframe thead th {\n",
       "        text-align: right;\n",
       "    }\n",
       "</style>\n",
       "<table border=\"1\" class=\"dataframe\">\n",
       "  <thead>\n",
       "    <tr style=\"text-align: right;\">\n",
       "      <th></th>\n",
       "      <th>count</th>\n",
       "      <th>unique</th>\n",
       "      <th>top</th>\n",
       "      <th>freq</th>\n",
       "    </tr>\n",
       "  </thead>\n",
       "  <tbody>\n",
       "    <tr>\n",
       "      <th>title</th>\n",
       "      <td>1779</td>\n",
       "      <td>1736</td>\n",
       "      <td>The Sole Dispositor/Final Dispositor in Astrol...</td>\n",
       "      <td>4</td>\n",
       "    </tr>\n",
       "    <tr>\n",
       "      <th>author</th>\n",
       "      <td>1779</td>\n",
       "      <td>1435</td>\n",
       "      <td>slowfruits</td>\n",
       "      <td>10</td>\n",
       "    </tr>\n",
       "    <tr>\n",
       "      <th>selftext</th>\n",
       "      <td>1779</td>\n",
       "      <td>5</td>\n",
       "      <td>[removed]</td>\n",
       "      <td>1775</td>\n",
       "    </tr>\n",
       "    <tr>\n",
       "      <th>subreddit</th>\n",
       "      <td>1779</td>\n",
       "      <td>1</td>\n",
       "      <td>astrology</td>\n",
       "      <td>1779</td>\n",
       "    </tr>\n",
       "  </tbody>\n",
       "</table>\n",
       "</div>"
      ],
      "text/plain": [
       "          count unique                                                top  \\\n",
       "title      1779   1736  The Sole Dispositor/Final Dispositor in Astrol...   \n",
       "author     1779   1435                                         slowfruits   \n",
       "selftext   1779      5                                          [removed]   \n",
       "subreddit  1779      1                                          astrology   \n",
       "\n",
       "           freq  \n",
       "title         4  \n",
       "author       10  \n",
       "selftext   1775  \n",
       "subreddit  1779  "
      ]
     },
     "execution_count": 11,
     "metadata": {},
     "output_type": "execute_result"
    }
   ],
   "source": [
    "#checking the stats for subreddit 2\n",
    "astro.describe().T"
   ]
  },
  {
   "cell_type": "markdown",
   "id": "e92d3970",
   "metadata": {},
   "source": [
    "Looking at the astrology dataset, the dataset seems ordinary. I also noticed that the dataset has 4 titles that are similar, 10 posts were from a User called slowfruits, and there is 1775 removed content. I will also need to explore further with visualizations to fully determine the irregulars in this dataset as well.\n",
    "\n",
    "After sorting through the statistics, I determined that I will not use the selftext author feature because many of these posts consist of not-text data and not relevant. I will not be able to use this data when modeling classification. So lets drop the selftext feature in both of our datasets.\n"
   ]
  },
  {
   "cell_type": "markdown",
   "id": "1304eb04",
   "metadata": {},
   "source": [
    "#### Outcomes from Summary Statistics\n",
    "Subreddit 1: mbti"
   ]
  },
  {
   "cell_type": "code",
   "execution_count": 12,
   "id": "003d3472",
   "metadata": {},
   "outputs": [],
   "source": [
    "#dropping the selftext feature \n",
    "mbti.drop(['selftext','author'], axis = 1, inplace = True)"
   ]
  },
  {
   "cell_type": "markdown",
   "id": "df99f305",
   "metadata": {},
   "source": [
    "Let's see if it works"
   ]
  },
  {
   "cell_type": "code",
   "execution_count": 13,
   "id": "0224913b",
   "metadata": {},
   "outputs": [
    {
     "data": {
      "text/plain": [
       "(1325, 2)"
      ]
     },
     "execution_count": 13,
     "metadata": {},
     "output_type": "execute_result"
    }
   ],
   "source": [
    "#checking the shape \n",
    "mbti.shape"
   ]
  },
  {
   "cell_type": "markdown",
   "id": "0ce26bd7",
   "metadata": {},
   "source": [
    "Subreddit 2: astrology"
   ]
  },
  {
   "cell_type": "code",
   "execution_count": 14,
   "id": "2ff8bc1f",
   "metadata": {},
   "outputs": [],
   "source": [
    "#dropping the selftext feature \n",
    "astro.drop(['selftext','author'], axis = 1, inplace = True)"
   ]
  },
  {
   "cell_type": "code",
   "execution_count": 15,
   "id": "1aec2a89",
   "metadata": {},
   "outputs": [
    {
     "data": {
      "text/plain": [
       "(1779, 2)"
      ]
     },
     "execution_count": 15,
     "metadata": {},
     "output_type": "execute_result"
    }
   ],
   "source": [
    "#checking the shape \n",
    "astro.shape"
   ]
  },
  {
   "cell_type": "markdown",
   "id": "f3da7c3c",
   "metadata": {},
   "source": [
    "Both of the datasets have only two fetaures: title and subreddit.\n",
    "\n",
    "Recalling my problem statement, I am trying to find content that are similar to two web sources. Based off the features I have left, I should only focus my model on the title feature because it has the largest content I can observe out of all the features. With this in mind, I will also want the title feature because it will help me in using Natural Language Processing (NLP) to train my classification model. Therefore, in the next section, I will investigate the use of NLP in my data science process.\n",
    "\n",
    "I will start with finding the frequently occurring words in each of my datasets because in effect, I want to see if these words have similar content in both of the datasets."
   ]
  },
  {
   "cell_type": "markdown",
   "id": "58d229a8",
   "metadata": {},
   "source": [
    "### Frequently Occurring Words\n",
    "Natural Language Processing (NLP) describes the field of getting computers to understand human language. In other words, we will be using the title feature with NLP because we will want the computer to understand how to sort, filter, and examine frequently occuring words in both of our datasets.\n",
    "\n",
    "We will begin with using the lemmatize function to get an accurate set of words. Then, we will use CountVectorizer from the sklearn library. CountVectorizer is the easiest way for us to convert text data into a structured, numeric X dataframe. We are going to use CountVectorizer because it only looks at pure counts. The pure counts here are the \"frequently\" words in each dataset. Then, we will create a visualization of these similar words and explain our insights based off the visualizations.\n",
    "\n",
    "Lets create a function to find the most frequently single gram words use in each dataframe."
   ]
  },
  {
   "cell_type": "code",
   "execution_count": 16,
   "id": "79292254",
   "metadata": {},
   "outputs": [],
   "source": [
    "\n",
    "def word_counter(df):\n",
    "    \n",
    "    #Getting our text data in our dataframe and use the copy function so we will not miss up our dataframe\n",
    "    token = df.copy()\n",
    "    \n",
    "    #Instantiate tokenizer\n",
    "    tokenizer = RegexpTokenizer(r'[A-z]+')\n",
    "\n",
    "    #Run tokenizer, use join method to get our post to become lowercase\n",
    "    #Created with Noah C. \n",
    "    tokens = [\" \".join(tokenizer.tokenize(post.lower())) for post in token]\n",
    "    \n",
    "    #Instantiate lemmatizer\n",
    "    lemmatizer = WordNetLemmatizer()\n",
    "\n",
    "    #use the split method to split our posts and lemmatize individual words in each post \n",
    "    #Created with Noah C. \n",
    "    tokens_lem = [[lemmatizer.lemmatize(word) for word in post.split(' ')] for post in tokens]\n",
    "\n",
    "    #lemmatize tokens, use the join method to get our post to become lemmatize\n",
    "    #Created with Noah C.\n",
    "    lem_tokens = [\" \".join(post) for post in tokens_lem]\n",
    "    \n",
    "    #replace our text data with new lemmatize data\n",
    "    df = lem_tokens\n",
    "    \n",
    "    #Instantiate a CountVectorizer\n",
    "    cvec = CountVectorizer(stop_words = 'english')\n",
    "    #using the stop words parameter & setting it to english to eliminate a group of words\n",
    "    \n",
    "    #fit the vectorizer on our corpus\n",
    "    cvec.fit(df)\n",
    "    \n",
    "    #transform the corpus\n",
    "    title = cvec.transform(df)\n",
    "    \n",
    "    #convert df into a dataframe\n",
    "    df = pd.DataFrame(title.toarray(), #able to have strings into floats\n",
    "                          columns = cvec.get_feature_names()) #get feature row names\n",
    "\n",
    "    #Word counts \n",
    "    counts = df.sum().sort_values(ascending=False)\n",
    "    \n",
    "    return counts"
   ]
  },
  {
   "cell_type": "markdown",
   "id": "97810c05",
   "metadata": {},
   "source": [
    "Lets implement this function on our two dataframes."
   ]
  },
  {
   "cell_type": "code",
   "execution_count": 17,
   "id": "d089db83",
   "metadata": {},
   "outputs": [
    {
     "data": {
      "text/plain": [
       "type         340\n",
       "mbti         183\n",
       "likely       100\n",
       "think         95\n",
       "function      85\n",
       "            ... \n",
       "happiest       1\n",
       "happen         1\n",
       "hang           1\n",
       "handle         1\n",
       "zoophilia      1\n",
       "Length: 1687, dtype: int64"
      ]
     },
     "execution_count": 17,
     "metadata": {},
     "output_type": "execute_result"
    }
   ],
   "source": [
    "word_counter(mbti['title'])"
   ]
  },
  {
   "cell_type": "code",
   "execution_count": 18,
   "id": "b6b2d67b",
   "metadata": {},
   "outputs": [
    {
     "data": {
      "text/plain": [
       "moon         226\n",
       "house        223\n",
       "sign         192\n",
       "chart        183\n",
       "astrology    165\n",
       "            ... \n",
       "digger         1\n",
       "nin            1\n",
       "nightmare      1\n",
       "disagree       1\n",
       "zodiacal       1\n",
       "Length: 1986, dtype: int64"
      ]
     },
     "execution_count": 18,
     "metadata": {},
     "output_type": "execute_result"
    }
   ],
   "source": [
    "word_counter(astro['title'])"
   ]
  },
  {
   "cell_type": "markdown",
   "id": "06cf3a1c",
   "metadata": {},
   "source": [
    "Next, lets look at this visually to understand it better, lets pick the top 10 words."
   ]
  },
  {
   "cell_type": "markdown",
   "id": "2192d5eb",
   "metadata": {},
   "source": [
    "#### Single Gram Words Visualizations\n",
    "Subreddit 1: MBTI"
   ]
  },
  {
   "cell_type": "code",
   "execution_count": 19,
   "id": "2a3ddf18",
   "metadata": {},
   "outputs": [],
   "source": [
    "#create a new dataframe for wordcount\n",
    "mbti_wordcount = pd.DataFrame(data = word_counter(mbti['title']),#using the function above\n",
    "                               columns = [\"Frequency\"]) #calling the column frequency"
   ]
  },
  {
   "cell_type": "code",
   "execution_count": 20,
   "id": "e8dbba90",
   "metadata": {},
   "outputs": [],
   "source": [
    "#creating a top10 variable from our dataframe\n",
    "mbti_wordcount_top10 = mbti_wordcount.head(10)"
   ]
  },
  {
   "cell_type": "code",
   "execution_count": 21,
   "id": "f2dc248a",
   "metadata": {},
   "outputs": [
    {
     "data": {
      "image/png": "[encoded data removed]",
      "text/plain": [
       "<Figure size 1080x504 with 1 Axes>"
      ]
     },
     "metadata": {
      "needs_background": "light"
     },
     "output_type": "display_data"
    }
   ],
   "source": [
    "#creating a barh graph for the wordcount dataframe \n",
    "\n",
    "#create a barh of our data\n",
    "mbti_wordcount_top10.sort_values(by = 'Frequency', #by the fequency column\n",
    "                                  ascending = True).plot(kind = 'barh', #barh type\n",
    "                                                         color = 'green', #color\n",
    "                                                         figsize = (15,7))#graph size\n",
    "\n",
    "plt.xlabel('Frequency', fontsize = 15)#xlabel on graph\n",
    "plt.ylabel('Words', fontsize = 15)#ylabel on graph \n",
    "plt.xticks(np.arange(0, 350, step = 10))#change the ticks on the x-axis\n",
    "\n",
    "plt.title(\"Top 10 Frequently Single Gram Words in the mbti Subreddit\", fontsize = 18); #title"
   ]
  },
  {
   "cell_type": "markdown",
   "id": "1e94405d",
   "metadata": {},
   "source": [
    "I observed that the single gram words in subreddit 1 are spread out in the frequency scale.\n",
    "\n",
    "Additionally, lets create a table to clearly show what is happening."
   ]
  },
  {
   "cell_type": "code",
   "execution_count": 22,
   "id": "04423137",
   "metadata": {},
   "outputs": [
    {
     "data": {
      "text/html": [
       "<div>\n",
       "<style scoped>\n",
       "    .dataframe tbody tr th:only-of-type {\n",
       "        vertical-align: middle;\n",
       "    }\n",
       "\n",
       "    .dataframe tbody tr th {\n",
       "        vertical-align: top;\n",
       "    }\n",
       "\n",
       "    .dataframe thead th {\n",
       "        text-align: right;\n",
       "    }\n",
       "</style>\n",
       "<table border=\"1\" class=\"dataframe\">\n",
       "  <thead>\n",
       "    <tr style=\"text-align: right;\">\n",
       "      <th></th>\n",
       "      <th>Frequency</th>\n",
       "    </tr>\n",
       "  </thead>\n",
       "  <tbody>\n",
       "    <tr>\n",
       "      <th>type</th>\n",
       "      <td>340</td>\n",
       "    </tr>\n",
       "    <tr>\n",
       "      <th>mbti</th>\n",
       "      <td>183</td>\n",
       "    </tr>\n",
       "    <tr>\n",
       "      <th>likely</th>\n",
       "      <td>100</td>\n",
       "    </tr>\n",
       "    <tr>\n",
       "      <th>think</th>\n",
       "      <td>95</td>\n",
       "    </tr>\n",
       "    <tr>\n",
       "      <th>function</th>\n",
       "      <td>85</td>\n",
       "    </tr>\n",
       "    <tr>\n",
       "      <th>intp</th>\n",
       "      <td>66</td>\n",
       "    </tr>\n",
       "    <tr>\n",
       "      <th>like</th>\n",
       "      <td>60</td>\n",
       "    </tr>\n",
       "    <tr>\n",
       "      <th>intj</th>\n",
       "      <td>53</td>\n",
       "    </tr>\n",
       "    <tr>\n",
       "      <th>girl</th>\n",
       "      <td>47</td>\n",
       "    </tr>\n",
       "    <tr>\n",
       "      <th>infp</th>\n",
       "      <td>47</td>\n",
       "    </tr>\n",
       "  </tbody>\n",
       "</table>\n",
       "</div>"
      ],
      "text/plain": [
       "          Frequency\n",
       "type            340\n",
       "mbti            183\n",
       "likely          100\n",
       "think            95\n",
       "function         85\n",
       "intp             66\n",
       "like             60\n",
       "intj             53\n",
       "girl             47\n",
       "infp             47"
      ]
     },
     "execution_count": 22,
     "metadata": {},
     "output_type": "execute_result"
    }
   ],
   "source": [
    "#looking at the top10\n",
    "mbti_wordcount_top10"
   ]
  },
  {
   "cell_type": "markdown",
   "id": "179048a1",
   "metadata": {},
   "source": [
    "**INSIGHTS:**\n",
    "\n",
    "I concluded that 'type' & 'mbti' is the most occurring single gram word. That is a vaild statement because subreddit 1 is all about that and there is 16 'type's of MBTI. In general, all of these words are what subreddit 1 is about. "
   ]
  },
  {
   "cell_type": "markdown",
   "id": "5232846b",
   "metadata": {},
   "source": [
    "Subreddit 2: Astrology"
   ]
  },
  {
   "cell_type": "code",
   "execution_count": 23,
   "id": "987b1465",
   "metadata": {},
   "outputs": [],
   "source": [
    "#create a new dataframe for wordcount\n",
    "astro_wordcount = pd.DataFrame(data = word_counter(astro['title']),#using the function above\n",
    "                               columns = [\"Frequency\"]) #calling the column frequency\n"
   ]
  },
  {
   "cell_type": "code",
   "execution_count": 24,
   "id": "6d189873",
   "metadata": {},
   "outputs": [],
   "source": [
    "#creating a top10 variable from our dataframe\n",
    "astro_wordcount_top10 = astro_wordcount.head(10)"
   ]
  },
  {
   "cell_type": "code",
   "execution_count": 25,
   "id": "b2998533",
   "metadata": {},
   "outputs": [
    {
     "data": {
      "image/png": "[encoded data removed]",
      "text/plain": [
       "<Figure size 1080x504 with 1 Axes>"
      ]
     },
     "metadata": {
      "needs_background": "light"
     },
     "output_type": "display_data"
    }
   ],
   "source": [
    "#creating a barh graph for the wordcount dataframe \n",
    "\n",
    "#create a barh of our data\n",
    "astro_wordcount_top10.sort_values(by = 'Frequency', #by the fequency column\n",
    "                                  ascending = True).plot(kind = 'barh', #barh type\n",
    "                                                         color = 'green', #color\n",
    "                                                         figsize = (15,7))#graph size\n",
    "\n",
    "plt.xlabel('Frequency', fontsize = 15)#xlabel on graph\n",
    "plt.ylabel('Words', fontsize = 15)#ylabel on graph \n",
    "plt.xticks(np.arange(0, 250, step = 10))#change the ticks on the x-axis\n",
    "\n",
    "plt.title(\"Top 10 Frequently Single Gram Words in Astrology Subreddit\", fontsize = 18); #title"
   ]
  },
  {
   "cell_type": "markdown",
   "id": "301229ea",
   "metadata": {},
   "source": [
    "I also observed that the single gram words in subreddit 2 are spread out in the frequency scale.\n",
    "\n",
    "Additionally, lets also create a table to clearly show what is happening."
   ]
  },
  {
   "cell_type": "code",
   "execution_count": 26,
   "id": "cf6295c1",
   "metadata": {},
   "outputs": [
    {
     "data": {
      "text/html": [
       "<div>\n",
       "<style scoped>\n",
       "    .dataframe tbody tr th:only-of-type {\n",
       "        vertical-align: middle;\n",
       "    }\n",
       "\n",
       "    .dataframe tbody tr th {\n",
       "        vertical-align: top;\n",
       "    }\n",
       "\n",
       "    .dataframe thead th {\n",
       "        text-align: right;\n",
       "    }\n",
       "</style>\n",
       "<table border=\"1\" class=\"dataframe\">\n",
       "  <thead>\n",
       "    <tr style=\"text-align: right;\">\n",
       "      <th></th>\n",
       "      <th>Frequency</th>\n",
       "    </tr>\n",
       "  </thead>\n",
       "  <tbody>\n",
       "    <tr>\n",
       "      <th>moon</th>\n",
       "      <td>226</td>\n",
       "    </tr>\n",
       "    <tr>\n",
       "      <th>house</th>\n",
       "      <td>223</td>\n",
       "    </tr>\n",
       "    <tr>\n",
       "      <th>sign</th>\n",
       "      <td>192</td>\n",
       "    </tr>\n",
       "    <tr>\n",
       "      <th>chart</th>\n",
       "      <td>183</td>\n",
       "    </tr>\n",
       "    <tr>\n",
       "      <th>astrology</th>\n",
       "      <td>165</td>\n",
       "    </tr>\n",
       "    <tr>\n",
       "      <th>sun</th>\n",
       "      <td>143</td>\n",
       "    </tr>\n",
       "    <tr>\n",
       "      <th>doe</th>\n",
       "      <td>135</td>\n",
       "    </tr>\n",
       "    <tr>\n",
       "      <th>th</th>\n",
       "      <td>134</td>\n",
       "    </tr>\n",
       "    <tr>\n",
       "      <th>rising</th>\n",
       "      <td>111</td>\n",
       "    </tr>\n",
       "    <tr>\n",
       "      <th>venus</th>\n",
       "      <td>96</td>\n",
       "    </tr>\n",
       "  </tbody>\n",
       "</table>\n",
       "</div>"
      ],
      "text/plain": [
       "           Frequency\n",
       "moon             226\n",
       "house            223\n",
       "sign             192\n",
       "chart            183\n",
       "astrology        165\n",
       "sun              143\n",
       "doe              135\n",
       "th               134\n",
       "rising           111\n",
       "venus             96"
      ]
     },
     "execution_count": 26,
     "metadata": {},
     "output_type": "execute_result"
    }
   ],
   "source": [
    "#looking at the top10 \n",
    "astro_wordcount_top10"
   ]
  },
  {
   "cell_type": "markdown",
   "id": "b944e12d",
   "metadata": {},
   "source": [
    "**INSIGHTS:**\n",
    "\n",
    "I concluded that 'moon' is the most occurring single gram word. That is a vaild statement because subreddit 2 is all about that as astrology involve moon, sun and etc. In general, all of these words are what subreddit 2 is about. Also, it is interesting that the word 'th' is up there. Yet, there is another typo up there 'doe' and that might sway our model results."
   ]
  },
  {
   "cell_type": "markdown",
   "id": "5982c140",
   "metadata": {},
   "source": [
    "So,I have looked at the top 10 frequently use single gram words for each dataframe. Lets look further to get more evidence of the connection between both subreddits. So lets try looking at bigram words.\n",
    "\n",
    "Lets create a function to find the most frequently bigram words use in each dataframe."
   ]
  },
  {
   "cell_type": "code",
   "execution_count": 27,
   "id": "ad6fd346",
   "metadata": {},
   "outputs": [],
   "source": [
    "#lets create a function to find the similar words\n",
    "def word_counter_two(df):\n",
    "    \n",
    "    #Getting our text data in our dataframe and use the copy function so we will not miss up our dataframe\n",
    "    token = df.copy()\n",
    "    \n",
    "    #Instantiate tokenizer\n",
    "    tokenizer = RegexpTokenizer(r'[A-z]+')\n",
    "\n",
    "    #Run tokenizer, use join method to get our post to become lowercase\n",
    "    #Created with Noah C. \n",
    "    tokens = [\" \".join(tokenizer.tokenize(post.lower())) for post in token]\n",
    "    \n",
    "    #Instantiate lemmatizer\n",
    "    lemmatizer = WordNetLemmatizer()\n",
    "\n",
    "    #use the split method to split our posts and lemmatize individual words in each post \n",
    "    #Created with Noah C. \n",
    "    tokens_lem = [[lemmatizer.lemmatize(word) for word in post.split(' ')] for post in tokens]\n",
    "\n",
    "    #lemmatize tokens, use the join method to get our post to become lemmatize\n",
    "    #Created with Noah C.\n",
    "    lem_tokens = [\" \".join(post) for post in tokens_lem]\n",
    "    \n",
    "    #replace our text data with new lemmatize data\n",
    "    df = lem_tokens\n",
    "    \n",
    "    #Instantiate a CountVectorizer\n",
    "    cvec = CountVectorizer(stop_words = 'english',\n",
    "                            ngram_range = (2,2))#getting bigram words\n",
    "    #using the stop words parameter & setting it to english to eliminate a group of words\n",
    "    \n",
    "    #fit the vectorizer on our corpus\n",
    "    cvec.fit(df)\n",
    "    \n",
    "    #transform the corpus\n",
    "    title = cvec.transform(df)\n",
    "    \n",
    "    #convert df into a dataframe\n",
    "    df = pd.DataFrame(title.toarray(), #able to have strings into floats\n",
    "                          columns = cvec.get_feature_names()) #get feature row names\n",
    "\n",
    "    #Word counts \n",
    "    counts = df.sum().sort_values(ascending=False)\n",
    "    \n",
    "    return counts"
   ]
  },
  {
   "cell_type": "markdown",
   "id": "389a56d1",
   "metadata": {},
   "source": [
    "Lets implement this function on our two dataframes."
   ]
  },
  {
   "cell_type": "code",
   "execution_count": 28,
   "id": "42c0f14b",
   "metadata": {},
   "outputs": [
    {
     "data": {
      "text/plain": [
       "type likely           58\n",
       "mbti type             47\n",
       "cognitive function    25\n",
       "majestic girl         20\n",
       "think type            17\n",
       "                      ..\n",
       "guy know               1\n",
       "guy recommend          1\n",
       "guy think              1\n",
       "guy type               1\n",
       "zoophilia judge        1\n",
       "Length: 3492, dtype: int64"
      ]
     },
     "execution_count": 28,
     "metadata": {},
     "output_type": "execute_result"
    }
   ],
   "source": [
    "word_counter_two(mbti['title'])"
   ]
  },
  {
   "cell_type": "code",
   "execution_count": 29,
   "id": "5e3ea073",
   "metadata": {},
   "outputs": [
    {
     "data": {
      "text/plain": [
       "th house              111\n",
       "birth chart            45\n",
       "doe mean               34\n",
       "zodiac sign            24\n",
       "sun sign               23\n",
       "                     ... \n",
       "guy attracted           1\n",
       "guide process           1\n",
       "guide advice            1\n",
       "guess zodiac            1\n",
       "zodiacal longitude      1\n",
       "Length: 5432, dtype: int64"
      ]
     },
     "execution_count": 29,
     "metadata": {},
     "output_type": "execute_result"
    }
   ],
   "source": [
    "word_counter_two(astro['title'])"
   ]
  },
  {
   "cell_type": "markdown",
   "id": "d1406813",
   "metadata": {},
   "source": [
    "Next, lets also look at this visually to understand it better, lets pick the 10 as before."
   ]
  },
  {
   "cell_type": "markdown",
   "id": "70c5bdb8",
   "metadata": {},
   "source": [
    "#### Bigram Words Visualizations\n",
    "Subreddit 1: MBTI"
   ]
  },
  {
   "cell_type": "code",
   "execution_count": 30,
   "id": "3a0c0cef",
   "metadata": {},
   "outputs": [],
   "source": [
    "#create a new dataframe for wordcount\n",
    "mbti_wordcount_two = pd.DataFrame(data = word_counter_two(mbti['title']),#using the function above\n",
    "                               columns = [\"Frequency\"]) #calling the column frequency"
   ]
  },
  {
   "cell_type": "code",
   "execution_count": 31,
   "id": "c9816773",
   "metadata": {},
   "outputs": [],
   "source": [
    "#creating a top10 variable from our dataframe\n",
    "mbti_wordcount_top10_two = mbti_wordcount_two.head(10)"
   ]
  },
  {
   "cell_type": "code",
   "execution_count": 32,
   "id": "c7320425",
   "metadata": {},
   "outputs": [
    {
     "data": {
      "image/png": "[encoded data removed]",
      "text/plain": [
       "<Figure size 1080x504 with 1 Axes>"
      ]
     },
     "metadata": {
      "needs_background": "light"
     },
     "output_type": "display_data"
    }
   ],
   "source": [
    "#creating a barh graph for the wordcount dataframe \n",
    "\n",
    "#create a barh of our data\n",
    "mbti_wordcount_top10_two.sort_values(by = 'Frequency', #by the fequency column\n",
    "                                  ascending = True).plot(kind = 'barh', #barh type\n",
    "                                                         color = 'green', #color\n",
    "                                                         figsize = (15,7))#graph size\n",
    "\n",
    "plt.xlabel('Frequency', fontsize = 15)#xlabel on graph\n",
    "plt.ylabel('Words', fontsize = 15)#ylabel on graph \n",
    "plt.xticks(np.arange(0, 70, step = 2))#change the ticks on the x-axis\n",
    "\n",
    "plt.title(\"Top 10 Frequently Bigram Words in the mbti Subreddit\", fontsize = 18); #title\n"
   ]
  },
  {
   "cell_type": "markdown",
   "id": "51131858",
   "metadata": {},
   "source": [
    "I observed that the bigram words in subreddit 1 are also spread out in the frequency scale.\n",
    "\n",
    "Additionally, lets also create a table to clearly show what is happening."
   ]
  },
  {
   "cell_type": "code",
   "execution_count": 33,
   "id": "b66bc659",
   "metadata": {},
   "outputs": [
    {
     "data": {
      "text/html": [
       "<div>\n",
       "<style scoped>\n",
       "    .dataframe tbody tr th:only-of-type {\n",
       "        vertical-align: middle;\n",
       "    }\n",
       "\n",
       "    .dataframe tbody tr th {\n",
       "        vertical-align: top;\n",
       "    }\n",
       "\n",
       "    .dataframe thead th {\n",
       "        text-align: right;\n",
       "    }\n",
       "</style>\n",
       "<table border=\"1\" class=\"dataframe\">\n",
       "  <thead>\n",
       "    <tr style=\"text-align: right;\">\n",
       "      <th></th>\n",
       "      <th>Frequency</th>\n",
       "    </tr>\n",
       "  </thead>\n",
       "  <tbody>\n",
       "    <tr>\n",
       "      <th>type likely</th>\n",
       "      <td>58</td>\n",
       "    </tr>\n",
       "    <tr>\n",
       "      <th>mbti type</th>\n",
       "      <td>47</td>\n",
       "    </tr>\n",
       "    <tr>\n",
       "      <th>cognitive function</th>\n",
       "      <td>25</td>\n",
       "    </tr>\n",
       "    <tr>\n",
       "      <th>majestic girl</th>\n",
       "      <td>20</td>\n",
       "    </tr>\n",
       "    <tr>\n",
       "      <th>think type</th>\n",
       "      <td>17</td>\n",
       "    </tr>\n",
       "    <tr>\n",
       "      <th>personality type</th>\n",
       "      <td>16</td>\n",
       "    </tr>\n",
       "    <tr>\n",
       "      <th>type think</th>\n",
       "      <td>11</td>\n",
       "    </tr>\n",
       "    <tr>\n",
       "      <th>mbti test</th>\n",
       "      <td>9</td>\n",
       "    </tr>\n",
       "    <tr>\n",
       "      <th>need help</th>\n",
       "      <td>9</td>\n",
       "    </tr>\n",
       "    <tr>\n",
       "      <th>xxtj likely</th>\n",
       "      <td>8</td>\n",
       "    </tr>\n",
       "  </tbody>\n",
       "</table>\n",
       "</div>"
      ],
      "text/plain": [
       "                    Frequency\n",
       "type likely                58\n",
       "mbti type                  47\n",
       "cognitive function         25\n",
       "majestic girl              20\n",
       "think type                 17\n",
       "personality type           16\n",
       "type think                 11\n",
       "mbti test                   9\n",
       "need help                   9\n",
       "xxtj likely                 8"
      ]
     },
     "execution_count": 33,
     "metadata": {},
     "output_type": "execute_result"
    }
   ],
   "source": [
    "#looking at the top10\n",
    "mbti_wordcount_top10_two"
   ]
  },
  {
   "cell_type": "markdown",
   "id": "cb8f12be",
   "metadata": {},
   "source": [
    "**INSIGHTS:** \n",
    "\n",
    "I concluded that 'type likely' is the most occurring bigram word. In general, again all of these words are what subreddit 1 is about. "
   ]
  },
  {
   "cell_type": "markdown",
   "id": "480168be",
   "metadata": {},
   "source": [
    "Subreddit 2: astrology"
   ]
  },
  {
   "cell_type": "code",
   "execution_count": 34,
   "id": "b797529a",
   "metadata": {},
   "outputs": [],
   "source": [
    "#create a new dataframe for wordcount\n",
    "astro_wordcount_two = pd.DataFrame(data = word_counter_two(astro['title']),#using the function above\n",
    "                               columns = [\"Frequency\"]) #calling the column frequency"
   ]
  },
  {
   "cell_type": "code",
   "execution_count": 35,
   "id": "c4017a97",
   "metadata": {},
   "outputs": [],
   "source": [
    "#creating a top10 variable from our dataframe\n",
    "astro_wordcount_top10_two = astro_wordcount_two.head(10)"
   ]
  },
  {
   "cell_type": "code",
   "execution_count": 36,
   "id": "0f1603c3",
   "metadata": {},
   "outputs": [
    {
     "data": {
      "image/png": "[encoded data removed]",
      "text/plain": [
       "<Figure size 1080x504 with 1 Axes>"
      ]
     },
     "metadata": {
      "needs_background": "light"
     },
     "output_type": "display_data"
    }
   ],
   "source": [
    "#creating a barh graph for the wordcount dataframe \n",
    "\n",
    "#create a barh of our data\n",
    "astro_wordcount_top10_two.sort_values(by = 'Frequency', #by the fequency column\n",
    "                                  ascending = True).plot(kind = 'barh', #barh type\n",
    "                                                         color = 'green', #color\n",
    "                                                         figsize = (15,7))#graph size\n",
    "\n",
    "plt.xlabel('Frequency', fontsize = 15)#xlabel on graph\n",
    "plt.ylabel('Words', fontsize = 15)#ylabel on graph \n",
    "plt.xticks(np.arange(0, 110, step = 5))#change the ticks on the x-axis\n",
    "\n",
    "plt.title(\"Top 10 Frequently Bigram Words in the Astrology Subreddit\", fontsize = 18); #title\n"
   ]
  },
  {
   "cell_type": "markdown",
   "id": "658a0f6c",
   "metadata": {},
   "source": [
    "I observed that the bigram words in subreddit 2 are spread out in the frequency scale.\n",
    "\n",
    "Additionally, lets also create a table to clearly show what is happening."
   ]
  },
  {
   "cell_type": "code",
   "execution_count": 37,
   "id": "de814a41",
   "metadata": {},
   "outputs": [
    {
     "data": {
      "text/html": [
       "<div>\n",
       "<style scoped>\n",
       "    .dataframe tbody tr th:only-of-type {\n",
       "        vertical-align: middle;\n",
       "    }\n",
       "\n",
       "    .dataframe tbody tr th {\n",
       "        vertical-align: top;\n",
       "    }\n",
       "\n",
       "    .dataframe thead th {\n",
       "        text-align: right;\n",
       "    }\n",
       "</style>\n",
       "<table border=\"1\" class=\"dataframe\">\n",
       "  <thead>\n",
       "    <tr style=\"text-align: right;\">\n",
       "      <th></th>\n",
       "      <th>Frequency</th>\n",
       "    </tr>\n",
       "  </thead>\n",
       "  <tbody>\n",
       "    <tr>\n",
       "      <th>th house</th>\n",
       "      <td>111</td>\n",
       "    </tr>\n",
       "    <tr>\n",
       "      <th>birth chart</th>\n",
       "      <td>45</td>\n",
       "    </tr>\n",
       "    <tr>\n",
       "      <th>doe mean</th>\n",
       "      <td>34</td>\n",
       "    </tr>\n",
       "    <tr>\n",
       "      <th>zodiac sign</th>\n",
       "      <td>24</td>\n",
       "    </tr>\n",
       "    <tr>\n",
       "      <th>sun sign</th>\n",
       "      <td>23</td>\n",
       "    </tr>\n",
       "    <tr>\n",
       "      <th>natal chart</th>\n",
       "      <td>20</td>\n",
       "    </tr>\n",
       "    <tr>\n",
       "      <th>scorpio moon</th>\n",
       "      <td>20</td>\n",
       "    </tr>\n",
       "    <tr>\n",
       "      <th>moon sign</th>\n",
       "      <td>18</td>\n",
       "    </tr>\n",
       "    <tr>\n",
       "      <th>rising sign</th>\n",
       "      <td>18</td>\n",
       "    </tr>\n",
       "    <tr>\n",
       "      <th>scorpio rising</th>\n",
       "      <td>18</td>\n",
       "    </tr>\n",
       "  </tbody>\n",
       "</table>\n",
       "</div>"
      ],
      "text/plain": [
       "                Frequency\n",
       "th house              111\n",
       "birth chart            45\n",
       "doe mean               34\n",
       "zodiac sign            24\n",
       "sun sign               23\n",
       "natal chart            20\n",
       "scorpio moon           20\n",
       "moon sign              18\n",
       "rising sign            18\n",
       "scorpio rising         18"
      ]
     },
     "execution_count": 37,
     "metadata": {},
     "output_type": "execute_result"
    }
   ],
   "source": [
    "#looking at the top10\n",
    "astro_wordcount_top10_two"
   ]
  },
  {
   "cell_type": "markdown",
   "id": "34a9a111",
   "metadata": {},
   "source": [
    "**INSIGHTS:**\n",
    "\n",
    "I concluded that 'th house' is the most occurring bigram word. In general, again all of these words are what subreddit 2 is about. and 'th' is supposed to mean which house the star fall.\n",
    "\n",
    "So what was my results? I do not have similar content when I use both single gram and bigram words. Given that information,I can look for more similarities and difference in both of our subreddit posts if I explore more NLP functions. I will explore this later on."
   ]
  }
 ],
 "metadata": {
  "kernelspec": {
   "display_name": "Python 3 (ipykernel)",
   "language": "python",
   "name": "python3"
  },
  "language_info": {
   "codemirror_mode": {
    "name": "ipython",
    "version": 3
   },
   "file_extension": ".py",
   "mimetype": "text/x-python",
   "name": "python",
   "nbconvert_exporter": "python",
   "pygments_lexer": "ipython3",
   "version": "3.9.7"
  }
 },
 "nbformat": 4,
 "nbformat_minor": 5
}
