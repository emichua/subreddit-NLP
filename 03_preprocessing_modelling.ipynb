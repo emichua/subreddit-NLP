{
 "cells": [
  {
   "cell_type": "markdown",
   "id": "fcbdd9af",
   "metadata": {},
   "source": [
    "# Project 3 - Web APIs & NLP"
   ]
  },
  {
   "cell_type": "markdown",
   "id": "b12435df",
   "metadata": {},
   "source": [
    "## Part Three : Preprocessing & Modelling"
   ]
  },
  {
   "cell_type": "markdown",
   "id": "35351603",
   "metadata": {},
   "source": [
    "### Contents:\n",
    "\n",
    "* Import Librairies\n",
    "* Load merged data\n",
    "* Preprocessing\n",
    "    - Mapping the y Variable\n",
    "    - NLP Preprocessing\n",
    "        - Lemmatization\n",
    "        - Stemming\n",
    "        - Stopwords\n",
    "        - Outcomes from NLP Preprocessing\n",
    "    - Creating X feature and y\n",
    "    - Train-test Split\n",
    "    - Determing the Baseline Score\n",
    "* Modeling\n",
    "    - Logistic Regression Model\n",
    "        - LR: Confusion Matrix\n",
    "        - LR: Interpretation\n",
    "    - Bernoulli NB Model\n",
    "        - NB: Confusion Matrix\n",
    "        - NB: Interpretation\n",
    "    - Bagged Decision Tree\n",
    "        - BDT: Confusion Matrix\n",
    "        - BDT: Interpretation\n",
    "    - Random Forest Model\n",
    "        - RF: Confusion Matrix\n",
    "        - RF: Interpretation\n",
    "* Conclusion and Recommendations"
   ]
  },
  {
   "cell_type": "markdown",
   "id": "0216c912",
   "metadata": {},
   "source": [
    "### Import Libraries"
   ]
  },
  {
   "cell_type": "code",
   "execution_count": 2,
   "id": "8fdb07a3",
   "metadata": {},
   "outputs": [],
   "source": [
    "import pandas as pd\n",
    "import numpy as np\n",
    "import seaborn as sns\n",
    "import matplotlib.pyplot as plt\n",
    "\n",
    "\n",
    "#graphing \n",
    "import matplotlib.pyplot as plt\n",
    "import seaborn as sns\n",
    "%matplotlib inline\n",
    "\n",
    "#using nlp \n",
    "from sklearn.feature_extraction.text import CountVectorizer, TfidfVectorizer\n",
    "from sklearn.feature_extraction import _stop_words\n",
    "from nltk.tokenize import RegexpTokenizer\n",
    "from nltk.stem import WordNetLemmatizer\n",
    "from nltk.stem.porter import PorterStemmer\n",
    "from nltk.corpus import stopwords \n",
    "\n",
    "#modeling\n",
    "from sklearn.model_selection import train_test_split, GridSearchCV, cross_val_score\n",
    "from sklearn.pipeline import Pipeline\n",
    "from sklearn.linear_model import LogisticRegression\n",
    "from sklearn.naive_bayes import BernoulliNB\n",
    "from sklearn.ensemble import BaggingClassifier, RandomForestClassifier\n",
    "\n",
    "#interpretation on the models \n",
    "from sklearn import metrics\n",
    "from sklearn.metrics import confusion_matrix\n",
    "from sklearn.metrics import mean_squared_error\n",
    "from sklearn import datasets\n",
    "from sklearn.model_selection import train_test_split\n",
    "import numpy as np\n",
    "import matplotlib.pyplot as plt"
   ]
  },
  {
   "cell_type": "markdown",
   "id": "5fbe6814",
   "metadata": {},
   "source": [
    "### Load merged data"
   ]
  },
  {
   "cell_type": "code",
   "execution_count": 3,
   "id": "726bf94b",
   "metadata": {},
   "outputs": [],
   "source": [
    "subreddit = pd.read_csv('./datasets/subreddit_combined.csv')"
   ]
  },
  {
   "cell_type": "markdown",
   "id": "72a3191f",
   "metadata": {},
   "source": [
    "Check if data is loaded"
   ]
  },
  {
   "cell_type": "code",
   "execution_count": 4,
   "id": "efeae5f5",
   "metadata": {},
   "outputs": [
    {
     "data": {
      "text/html": [
       "<div>\n",
       "<style scoped>\n",
       "    .dataframe tbody tr th:only-of-type {\n",
       "        vertical-align: middle;\n",
       "    }\n",
       "\n",
       "    .dataframe tbody tr th {\n",
       "        vertical-align: top;\n",
       "    }\n",
       "\n",
       "    .dataframe thead th {\n",
       "        text-align: right;\n",
       "    }\n",
       "</style>\n",
       "<table border=\"1\" class=\"dataframe\">\n",
       "  <thead>\n",
       "    <tr style=\"text-align: right;\">\n",
       "      <th></th>\n",
       "      <th>title</th>\n",
       "      <th>author</th>\n",
       "      <th>created_utc</th>\n",
       "      <th>selftext</th>\n",
       "      <th>subreddit</th>\n",
       "    </tr>\n",
       "  </thead>\n",
       "  <tbody>\n",
       "    <tr>\n",
       "      <th>0</th>\n",
       "      <td>Do you have any advice for the soon to be newl...</td>\n",
       "      <td>dreamingonastar1</td>\n",
       "      <td>1658560509</td>\n",
       "      <td>I learn more and more every day about the pers...</td>\n",
       "      <td>mbti</td>\n",
       "    </tr>\n",
       "    <tr>\n",
       "      <th>1</th>\n",
       "      <td>Tp type personality pattern (ex:soccer)</td>\n",
       "      <td>Real_Marsupial8984</td>\n",
       "      <td>1658560467</td>\n",
       "      <td>Estp: Experience (Se) first and then create yo...</td>\n",
       "      <td>mbti</td>\n",
       "    </tr>\n",
       "    <tr>\n",
       "      <th>2</th>\n",
       "      <td>May Pang</td>\n",
       "      <td>depressedgod13</td>\n",
       "      <td>1658559322</td>\n",
       "      <td>John Lennon’s temporary beau.\\n\\n[View Poll](h...</td>\n",
       "      <td>mbti</td>\n",
       "    </tr>\n",
       "    <tr>\n",
       "      <th>3</th>\n",
       "      <td>Which type is the most “neutral” on their beli...</td>\n",
       "      <td>Hydra-Sagaria</td>\n",
       "      <td>1658558060</td>\n",
       "      <td>\\n\\n[View Poll](https://www.reddit.com/poll/w5...</td>\n",
       "      <td>mbti</td>\n",
       "    </tr>\n",
       "    <tr>\n",
       "      <th>4</th>\n",
       "      <td>Does this seem Si dom?</td>\n",
       "      <td>akuasrA</td>\n",
       "      <td>1658557876</td>\n",
       "      <td>Do these traits seem to fit with the definitio...</td>\n",
       "      <td>mbti</td>\n",
       "    </tr>\n",
       "  </tbody>\n",
       "</table>\n",
       "</div>"
      ],
      "text/plain": [
       "                                               title              author  \\\n",
       "0  Do you have any advice for the soon to be newl...    dreamingonastar1   \n",
       "1            Tp type personality pattern (ex:soccer)  Real_Marsupial8984   \n",
       "2                                           May Pang      depressedgod13   \n",
       "3  Which type is the most “neutral” on their beli...       Hydra-Sagaria   \n",
       "4                             Does this seem Si dom?             akuasrA   \n",
       "\n",
       "   created_utc                                           selftext subreddit  \n",
       "0   1658560509  I learn more and more every day about the pers...      mbti  \n",
       "1   1658560467  Estp: Experience (Se) first and then create yo...      mbti  \n",
       "2   1658559322  John Lennon’s temporary beau.\\n\\n[View Poll](h...      mbti  \n",
       "3   1658558060  \\n\\n[View Poll](https://www.reddit.com/poll/w5...      mbti  \n",
       "4   1658557876  Do these traits seem to fit with the definitio...      mbti  "
      ]
     },
     "execution_count": 4,
     "metadata": {},
     "output_type": "execute_result"
    }
   ],
   "source": [
    "subreddit.head()"
   ]
  },
  {
   "cell_type": "markdown",
   "id": "81d317ab",
   "metadata": {},
   "source": [
    "#### Remove unnecessary column as we only need title and subreddit for our model"
   ]
  },
  {
   "cell_type": "code",
   "execution_count": 5,
   "id": "1f14283e",
   "metadata": {},
   "outputs": [],
   "source": [
    "subreddit=subreddit.drop(['created_utc','author','selftext'],axis=1)"
   ]
  },
  {
   "cell_type": "markdown",
   "id": "be7080b7",
   "metadata": {},
   "source": [
    "Let's check if it works"
   ]
  },
  {
   "cell_type": "code",
   "execution_count": 6,
   "id": "9121aa06",
   "metadata": {},
   "outputs": [
    {
     "data": {
      "text/html": [
       "<div>\n",
       "<style scoped>\n",
       "    .dataframe tbody tr th:only-of-type {\n",
       "        vertical-align: middle;\n",
       "    }\n",
       "\n",
       "    .dataframe tbody tr th {\n",
       "        vertical-align: top;\n",
       "    }\n",
       "\n",
       "    .dataframe thead th {\n",
       "        text-align: right;\n",
       "    }\n",
       "</style>\n",
       "<table border=\"1\" class=\"dataframe\">\n",
       "  <thead>\n",
       "    <tr style=\"text-align: right;\">\n",
       "      <th></th>\n",
       "      <th>title</th>\n",
       "      <th>subreddit</th>\n",
       "    </tr>\n",
       "  </thead>\n",
       "  <tbody>\n",
       "    <tr>\n",
       "      <th>0</th>\n",
       "      <td>Do you have any advice for the soon to be newl...</td>\n",
       "      <td>mbti</td>\n",
       "    </tr>\n",
       "    <tr>\n",
       "      <th>1</th>\n",
       "      <td>Tp type personality pattern (ex:soccer)</td>\n",
       "      <td>mbti</td>\n",
       "    </tr>\n",
       "    <tr>\n",
       "      <th>2</th>\n",
       "      <td>May Pang</td>\n",
       "      <td>mbti</td>\n",
       "    </tr>\n",
       "    <tr>\n",
       "      <th>3</th>\n",
       "      <td>Which type is the most “neutral” on their beli...</td>\n",
       "      <td>mbti</td>\n",
       "    </tr>\n",
       "    <tr>\n",
       "      <th>4</th>\n",
       "      <td>Does this seem Si dom?</td>\n",
       "      <td>mbti</td>\n",
       "    </tr>\n",
       "  </tbody>\n",
       "</table>\n",
       "</div>"
      ],
      "text/plain": [
       "                                               title subreddit\n",
       "0  Do you have any advice for the soon to be newl...      mbti\n",
       "1            Tp type personality pattern (ex:soccer)      mbti\n",
       "2                                           May Pang      mbti\n",
       "3  Which type is the most “neutral” on their beli...      mbti\n",
       "4                             Does this seem Si dom?      mbti"
      ]
     },
     "execution_count": 6,
     "metadata": {},
     "output_type": "execute_result"
    }
   ],
   "source": [
    "subreddit.head()"
   ]
  },
  {
   "cell_type": "markdown",
   "id": "e9f532c0",
   "metadata": {},
   "source": [
    "### Preprocessing\n",
    "\n",
    "Before modeling, I need to do some preparation. First, I need to do addtional NLP prepocessing on my merged dataset to detemine if I want to use it in my modeling. Then, I create our X feature and y. Then, I will detemine the baseline. Lastly, do train-test split on the X fetaure and y."
   ]
  },
  {
   "cell_type": "markdown",
   "id": "7706c57e",
   "metadata": {},
   "source": [
    "#### Mapping the y Variable\n",
    "I change the target variable to a binary classifier so that it can be able to model it as a classification model."
   ]
  },
  {
   "cell_type": "code",
   "execution_count": 7,
   "id": "3c2a0654",
   "metadata": {},
   "outputs": [],
   "source": [
    "#Using the replace method to fix target values in the subreddits_titles data set\n",
    "subreddit['subreddit'].replace({'mbti': 1, 'astrology': 0}, inplace = True)"
   ]
  },
  {
   "cell_type": "code",
   "execution_count": 8,
   "id": "3ff52abb",
   "metadata": {},
   "outputs": [
    {
     "data": {
      "text/plain": [
       "0    1779\n",
       "1    1325\n",
       "Name: subreddit, dtype: int64"
      ]
     },
     "execution_count": 8,
     "metadata": {},
     "output_type": "execute_result"
    }
   ],
   "source": [
    "subreddit['subreddit'].value_counts()"
   ]
  },
  {
   "cell_type": "markdown",
   "id": "6ca07c06",
   "metadata": {},
   "source": [
    "The target variable has been successfully changed."
   ]
  },
  {
   "cell_type": "markdown",
   "id": "9064a7f7",
   "metadata": {},
   "source": [
    "#### NLP Preprocessing\n",
    "When dealing with text data, there are common pre-processing steps. I will tokenize, lemmatize, and stem. I will also use stopwords to clean up our text data. Finally, I can use two of these functions and use the results to model. I will either pick lemmatization and stopwords or stemming and stopwords.\n",
    "\n",
    "Lets create the text data and call it token."
   ]
  },
  {
   "cell_type": "code",
   "execution_count": 9,
   "id": "de6a32c8",
   "metadata": {},
   "outputs": [],
   "source": [
    "#getting our text data and using the copy method to unchange our dataframe feature \n",
    "token = subreddit['title'].copy()"
   ]
  },
  {
   "cell_type": "markdown",
   "id": "14081111",
   "metadata": {},
   "source": [
    "**Lemmatization**\n",
    "\n",
    "When I lemmatize the text data, I take words in the data and attempt to return their base form of that word. Before I lemmatize, I need to tokenize the data. In other words, it will split up the data into distinct chunks based on a pattern of our choosing."
   ]
  },
  {
   "cell_type": "code",
   "execution_count": 10,
   "id": "16d25bf3",
   "metadata": {},
   "outputs": [],
   "source": [
    "#Instantiate tokenizer\n",
    "tokenizer = RegexpTokenizer(r'[A-z]+') #using the [A-z] pattern"
   ]
  },
  {
   "cell_type": "code",
   "execution_count": 11,
   "id": "793c9e7b",
   "metadata": {},
   "outputs": [],
   "source": [
    "#Run tokenizer, use join method to get our post to become lowercase\n",
    "#Created with Noah C. \n",
    "tokens = [\" \".join(tokenizer.tokenize(post.lower())) for post in token]"
   ]
  },
  {
   "cell_type": "code",
   "execution_count": 12,
   "id": "03a6f129",
   "metadata": {},
   "outputs": [
    {
     "data": {
      "text/plain": [
       "['do you have any advice for the soon to be newly weds intj lt isfp',\n",
       " 'tp type personality pattern ex soccer']"
      ]
     },
     "execution_count": 12,
     "metadata": {},
     "output_type": "execute_result"
    }
   ],
   "source": [
    "#see if it worked\n",
    "tokens[:2]"
   ]
  },
  {
   "cell_type": "markdown",
   "id": "8fe126fd",
   "metadata": {},
   "source": [
    "It works, so let's move on to use lemmatization"
   ]
  },
  {
   "cell_type": "code",
   "execution_count": 13,
   "id": "141b90d3",
   "metadata": {},
   "outputs": [],
   "source": [
    "#Instantiate lemmatizer\n",
    "lemmatizer = WordNetLemmatizer()"
   ]
  },
  {
   "cell_type": "code",
   "execution_count": 14,
   "id": "ec5a99c9",
   "metadata": {},
   "outputs": [],
   "source": [
    "#use the split method to split our posts and lemmatize individual words in each post \n",
    "#Created with Noah C. \n",
    "tokens_lem = [[lemmatizer.lemmatize(word) for word in post.split(' ')] for post in tokens]"
   ]
  },
  {
   "cell_type": "code",
   "execution_count": 15,
   "id": "8609a01d",
   "metadata": {},
   "outputs": [
    {
     "data": {
      "text/plain": [
       "[('do you have any advice for the soon to be newly weds intj lt isfp',\n",
       "  ['do',\n",
       "   'you',\n",
       "   'have',\n",
       "   'any',\n",
       "   'advice',\n",
       "   'for',\n",
       "   'the',\n",
       "   'soon',\n",
       "   'to',\n",
       "   'be',\n",
       "   'newly',\n",
       "   'wed',\n",
       "   'intj',\n",
       "   'lt',\n",
       "   'isfp']),\n",
       " ('tp type personality pattern ex soccer',\n",
       "  ['tp', 'type', 'personality', 'pattern', 'ex', 'soccer'])]"
      ]
     },
     "execution_count": 15,
     "metadata": {},
     "output_type": "execute_result"
    }
   ],
   "source": [
    "#to see the differences between tokens and lemmatize tokens \n",
    "list(zip(tokens, tokens_lem))[:2]"
   ]
  },
  {
   "cell_type": "code",
   "execution_count": 16,
   "id": "db77a178",
   "metadata": {},
   "outputs": [],
   "source": [
    "#lemmatize tokens, use the join method to get our post to become lemmatize\n",
    "#Created with Noah C.\n",
    "lem_tokens = [\" \".join(post) for post in tokens_lem]"
   ]
  },
  {
   "cell_type": "markdown",
   "id": "6cef919f",
   "metadata": {},
   "source": [
    "Next, CountVectorizer is used to transform the lists of the cleaned posts into features that we can pass into a model."
   ]
  },
  {
   "cell_type": "code",
   "execution_count": 17,
   "id": "53e2028a",
   "metadata": {},
   "outputs": [],
   "source": [
    "#Instantiate CountVectorizer\n",
    "cvec = CountVectorizer()"
   ]
  },
  {
   "cell_type": "code",
   "execution_count": 18,
   "id": "41e904d6",
   "metadata": {},
   "outputs": [],
   "source": [
    "#fit lemmatize features \n",
    "cvec.fit_transform(lem_tokens);"
   ]
  },
  {
   "cell_type": "code",
   "execution_count": 19,
   "id": "2018a8e6",
   "metadata": {},
   "outputs": [],
   "source": [
    "#Get feature names\n",
    "vocab_lemma = cvec.get_feature_names()"
   ]
  },
  {
   "cell_type": "code",
   "execution_count": 20,
   "id": "4c84a14c",
   "metadata": {},
   "outputs": [],
   "source": [
    "#create a new dataframe with our data lemmatize\n",
    "vocab_lemma_df = pd.DataFrame(vocab_lemma)"
   ]
  },
  {
   "cell_type": "code",
   "execution_count": 21,
   "id": "68ab715c",
   "metadata": {},
   "outputs": [
    {
     "data": {
      "text/html": [
       "<div>\n",
       "<style scoped>\n",
       "    .dataframe tbody tr th:only-of-type {\n",
       "        vertical-align: middle;\n",
       "    }\n",
       "\n",
       "    .dataframe tbody tr th {\n",
       "        vertical-align: top;\n",
       "    }\n",
       "\n",
       "    .dataframe thead th {\n",
       "        text-align: right;\n",
       "    }\n",
       "</style>\n",
       "<table border=\"1\" class=\"dataframe\">\n",
       "  <thead>\n",
       "    <tr style=\"text-align: right;\">\n",
       "      <th></th>\n",
       "      <th>0</th>\n",
       "    </tr>\n",
       "  </thead>\n",
       "  <tbody>\n",
       "    <tr>\n",
       "      <th>0</th>\n",
       "      <td>_____</td>\n",
       "    </tr>\n",
       "    <tr>\n",
       "      <th>1</th>\n",
       "      <td>aaron</td>\n",
       "    </tr>\n",
       "    <tr>\n",
       "      <th>2</th>\n",
       "      <td>ab</td>\n",
       "    </tr>\n",
       "    <tr>\n",
       "      <th>3</th>\n",
       "      <td>abducting</td>\n",
       "    </tr>\n",
       "    <tr>\n",
       "      <th>4</th>\n",
       "      <td>abe</td>\n",
       "    </tr>\n",
       "  </tbody>\n",
       "</table>\n",
       "</div>"
      ],
      "text/plain": [
       "           0\n",
       "0      _____\n",
       "1      aaron\n",
       "2         ab\n",
       "3  abducting\n",
       "4        abe"
      ]
     },
     "execution_count": 21,
     "metadata": {},
     "output_type": "execute_result"
    }
   ],
   "source": [
    "#checking to see if it worked \n",
    "vocab_lemma_df.head()"
   ]
  },
  {
   "cell_type": "markdown",
   "id": "36f29a06",
   "metadata": {},
   "source": [
    "I am able to lemmatize our X feature. Next, it is to stem X feature and it is very similar to lemmatization"
   ]
  },
  {
   "cell_type": "markdown",
   "id": "254d588f",
   "metadata": {},
   "source": [
    "**Stemming**\n",
    "\n",
    "Again, when I stem the text data, I take words in the data and attempt to return their base form of that word. Also, before stemming, we need to tokenize our data.\n"
   ]
  },
  {
   "cell_type": "code",
   "execution_count": 22,
   "id": "f1d9a933",
   "metadata": {},
   "outputs": [],
   "source": [
    "#Instantiate object of class PorterStemmer.\n",
    "p_stemmer = PorterStemmer()"
   ]
  },
  {
   "cell_type": "code",
   "execution_count": 23,
   "id": "361031b9",
   "metadata": {},
   "outputs": [],
   "source": [
    "#Stem tokens, use the split method to split our posts and stem individual words in each post \n",
    "#Created with Noah C.\n",
    "tokens_stem = [[p_stemmer.stem(word) for word in post.split(' ')] for post in tokens]\n"
   ]
  },
  {
   "cell_type": "code",
   "execution_count": 24,
   "id": "2db64aad",
   "metadata": {},
   "outputs": [
    {
     "data": {
      "text/plain": [
       "[('do you have any advice for the soon to be newly weds intj lt isfp',\n",
       "  ['do',\n",
       "   'you',\n",
       "   'have',\n",
       "   'ani',\n",
       "   'advic',\n",
       "   'for',\n",
       "   'the',\n",
       "   'soon',\n",
       "   'to',\n",
       "   'be',\n",
       "   'newli',\n",
       "   'wed',\n",
       "   'intj',\n",
       "   'lt',\n",
       "   'isfp']),\n",
       " ('tp type personality pattern ex soccer',\n",
       "  ['tp', 'type', 'person', 'pattern', 'ex', 'soccer'])]"
      ]
     },
     "execution_count": 24,
     "metadata": {},
     "output_type": "execute_result"
    }
   ],
   "source": [
    "#show the differences between tokens and stemmed tokens \n",
    "list(zip(tokens, tokens_stem))[:2]"
   ]
  },
  {
   "cell_type": "code",
   "execution_count": 25,
   "id": "4fd2fc52",
   "metadata": {},
   "outputs": [],
   "source": [
    "#stemmed tokens, use the join method to get our post to become stemmed\n",
    "#Created with Noah C.\n",
    "stemmed_tokens = [\" \".join(post) for post in tokens_stem]"
   ]
  },
  {
   "cell_type": "markdown",
   "id": "9464fd11",
   "metadata": {},
   "source": [
    "Again, CountVectorizer is used."
   ]
  },
  {
   "cell_type": "code",
   "execution_count": 26,
   "id": "0d368ee4",
   "metadata": {},
   "outputs": [],
   "source": [
    "#Instantiate CountVectorizer\n",
    "cvec = CountVectorizer()"
   ]
  },
  {
   "cell_type": "code",
   "execution_count": 27,
   "id": "35cf89ed",
   "metadata": {},
   "outputs": [],
   "source": [
    "#fit stem features \n",
    "cvec.fit_transform(stemmed_tokens);"
   ]
  },
  {
   "cell_type": "code",
   "execution_count": 28,
   "id": "5038b8f4",
   "metadata": {},
   "outputs": [],
   "source": [
    "#Get feature names\n",
    "vocab_stemmed = cvec.get_feature_names()"
   ]
  },
  {
   "cell_type": "code",
   "execution_count": 29,
   "id": "51387c94",
   "metadata": {},
   "outputs": [],
   "source": [
    "#create a new dataframe with our data lemmatize\n",
    "vocab_stemmed_df = pd.DataFrame(vocab_stemmed)"
   ]
  },
  {
   "cell_type": "code",
   "execution_count": 30,
   "id": "cfe46711",
   "metadata": {},
   "outputs": [
    {
     "data": {
      "text/html": [
       "<div>\n",
       "<style scoped>\n",
       "    .dataframe tbody tr th:only-of-type {\n",
       "        vertical-align: middle;\n",
       "    }\n",
       "\n",
       "    .dataframe tbody tr th {\n",
       "        vertical-align: top;\n",
       "    }\n",
       "\n",
       "    .dataframe thead th {\n",
       "        text-align: right;\n",
       "    }\n",
       "</style>\n",
       "<table border=\"1\" class=\"dataframe\">\n",
       "  <thead>\n",
       "    <tr style=\"text-align: right;\">\n",
       "      <th></th>\n",
       "      <th>0</th>\n",
       "    </tr>\n",
       "  </thead>\n",
       "  <tbody>\n",
       "    <tr>\n",
       "      <th>0</th>\n",
       "      <td>_____</td>\n",
       "    </tr>\n",
       "    <tr>\n",
       "      <th>1</th>\n",
       "      <td>aaron</td>\n",
       "    </tr>\n",
       "    <tr>\n",
       "      <th>2</th>\n",
       "      <td>ab</td>\n",
       "    </tr>\n",
       "    <tr>\n",
       "      <th>3</th>\n",
       "      <td>abduct</td>\n",
       "    </tr>\n",
       "    <tr>\n",
       "      <th>4</th>\n",
       "      <td>abe</td>\n",
       "    </tr>\n",
       "  </tbody>\n",
       "</table>\n",
       "</div>"
      ],
      "text/plain": [
       "        0\n",
       "0   _____\n",
       "1   aaron\n",
       "2      ab\n",
       "3  abduct\n",
       "4     abe"
      ]
     },
     "execution_count": 30,
     "metadata": {},
     "output_type": "execute_result"
    }
   ],
   "source": [
    "#check to see if it worked \n",
    "vocab_stemmed_df.head()"
   ]
  },
  {
   "cell_type": "markdown",
   "id": "67e74f1d",
   "metadata": {},
   "source": [
    "I am able to stem our X feature.\n",
    "\n",
    "Thus, we observed that stemming is better than lemmatization because it is able to get the clear root word in our dataset. For instance, in lemmatization we get the word \"abducting\" and in stemming we get the word \"abduct\". \n",
    "\n",
    "Finally, we can determine our stop words that will not be included into our model."
   ]
  },
  {
   "cell_type": "markdown",
   "id": "0553506d",
   "metadata": {},
   "source": [
    "**Stopwords**\n",
    "\n",
    "Stopwords are very common words that are often removed because they amount to unnecessary information and removing them can dramatically speed things up in our modeling."
   ]
  },
  {
   "cell_type": "code",
   "execution_count": 31,
   "id": "97736547",
   "metadata": {},
   "outputs": [],
   "source": [
    "#english stopwords are the common stop words in english\n",
    "stop = stopwords.words('english')"
   ]
  },
  {
   "cell_type": "code",
   "execution_count": 32,
   "id": "b0c6ab7b",
   "metadata": {},
   "outputs": [],
   "source": [
    "#lets create another copy of our dataframe so it will not effect our modeling\n",
    "copy_st = subreddit.copy()"
   ]
  },
  {
   "cell_type": "code",
   "execution_count": 33,
   "id": "493e45a6",
   "metadata": {},
   "outputs": [],
   "source": [
    "#changing our title feature to a lower case and split the posts into indvidual words\n",
    "copy_st['title'] = copy_st['title'].str.lower().str.split()  "
   ]
  },
  {
   "cell_type": "code",
   "execution_count": 34,
   "id": "99e65d98",
   "metadata": {},
   "outputs": [
    {
     "data": {
      "text/plain": [
       "['may', 'pang']"
      ]
     },
     "execution_count": 34,
     "metadata": {},
     "output_type": "execute_result"
    }
   ],
   "source": [
    "#see if it worked\n",
    "copy_st['title'][2]\n"
   ]
  },
  {
   "cell_type": "code",
   "execution_count": 35,
   "id": "fc3049a5",
   "metadata": {},
   "outputs": [],
   "source": [
    "#Checking if each word is either a stopword or not, if then drop word, if not keep word\n",
    "using_stop_words = copy_st['title'].apply(lambda post: [word for word in post if word not in stop])\n"
   ]
  },
  {
   "cell_type": "code",
   "execution_count": 36,
   "id": "750a02c2",
   "metadata": {},
   "outputs": [],
   "source": [
    "#creating a dataframe with stopwords gone\n",
    "using_stop_words_df = pd.DataFrame(using_stop_words)\n"
   ]
  },
  {
   "cell_type": "code",
   "execution_count": 37,
   "id": "7491d708",
   "metadata": {},
   "outputs": [
    {
     "data": {
      "text/html": [
       "<div>\n",
       "<style scoped>\n",
       "    .dataframe tbody tr th:only-of-type {\n",
       "        vertical-align: middle;\n",
       "    }\n",
       "\n",
       "    .dataframe tbody tr th {\n",
       "        vertical-align: top;\n",
       "    }\n",
       "\n",
       "    .dataframe thead th {\n",
       "        text-align: right;\n",
       "    }\n",
       "</style>\n",
       "<table border=\"1\" class=\"dataframe\">\n",
       "  <thead>\n",
       "    <tr style=\"text-align: right;\">\n",
       "      <th></th>\n",
       "      <th>title</th>\n",
       "    </tr>\n",
       "  </thead>\n",
       "  <tbody>\n",
       "    <tr>\n",
       "      <th>0</th>\n",
       "      <td>[advice, soon, newly, weds?, intj, &amp;lt;3, isfp]</td>\n",
       "    </tr>\n",
       "    <tr>\n",
       "      <th>1</th>\n",
       "      <td>[tp, type, personality, pattern, (ex:soccer)]</td>\n",
       "    </tr>\n",
       "    <tr>\n",
       "      <th>2</th>\n",
       "      <td>[may, pang]</td>\n",
       "    </tr>\n",
       "    <tr>\n",
       "      <th>3</th>\n",
       "      <td>[type, “neutral”, beliefs, life?]</td>\n",
       "    </tr>\n",
       "    <tr>\n",
       "      <th>4</th>\n",
       "      <td>[seem, si, dom?]</td>\n",
       "    </tr>\n",
       "  </tbody>\n",
       "</table>\n",
       "</div>"
      ],
      "text/plain": [
       "                                             title\n",
       "0  [advice, soon, newly, weds?, intj, &lt;3, isfp]\n",
       "1    [tp, type, personality, pattern, (ex:soccer)]\n",
       "2                                      [may, pang]\n",
       "3                [type, “neutral”, beliefs, life?]\n",
       "4                                 [seem, si, dom?]"
      ]
     },
     "execution_count": 37,
     "metadata": {},
     "output_type": "execute_result"
    }
   ],
   "source": [
    "#check to see if it worked\n",
    "using_stop_words_df.head()"
   ]
  },
  {
   "cell_type": "markdown",
   "id": "c98c96e6",
   "metadata": {},
   "source": [
    "I am able to determine our stopwords our X feature.\n",
    "\n",
    "After exploring each of the NLP functions, we will use lemmatisation and stopwords for our model. As mentioned, stemming would be better in general but for my case, stemming have removed most of the 'e' from my words and made most of my words unreadable, like advice to advic. "
   ]
  },
  {
   "cell_type": "markdown",
   "id": "eee91b40",
   "metadata": {},
   "source": [
    "**Outcomes from NLP Preprocessing**\n",
    "\n",
    "Lets create our lemmatise X feature for our model."
   ]
  },
  {
   "cell_type": "code",
   "execution_count": 38,
   "id": "3e45d13c",
   "metadata": {},
   "outputs": [],
   "source": [
    "#Getting our text data in our dataframe\n",
    "token_model = subreddit['title']"
   ]
  },
  {
   "cell_type": "code",
   "execution_count": 39,
   "id": "27ffc7c8",
   "metadata": {},
   "outputs": [],
   "source": [
    "#Instantiate tokenizer\n",
    "tokenizer_model = RegexpTokenizer(r'[A-z]+')"
   ]
  },
  {
   "cell_type": "code",
   "execution_count": 40,
   "id": "05bf0818",
   "metadata": {},
   "outputs": [],
   "source": [
    "#Run tokenizer, use join method to get our post to become lowercase\n",
    "#Created with Noah C. \n",
    "tokens_model = [\" \".join(tokenizer_model.tokenize(post.lower())) for post in token_model]"
   ]
  },
  {
   "cell_type": "code",
   "execution_count": 41,
   "id": "ad5055df",
   "metadata": {},
   "outputs": [],
   "source": [
    "#Instantiate lemmatizer\n",
    "lemmatizer = WordNetLemmatizer()"
   ]
  },
  {
   "cell_type": "code",
   "execution_count": 42,
   "id": "c431e600",
   "metadata": {},
   "outputs": [],
   "source": [
    "#use the split method to split our posts and lemmatize individual words in each post \n",
    "#Created with Noah C. \n",
    "tokens_lem_model= [[lemmatizer.lemmatize(word) for word in post.split(' ')] for post in tokens]"
   ]
  },
  {
   "cell_type": "code",
   "execution_count": 43,
   "id": "43077e8e",
   "metadata": {},
   "outputs": [],
   "source": [
    "#lemmatize tokens, use the join method to get our post to become lemmatize\n",
    "#Created with Noah C.\n",
    "lem_tokens_model = [\" \".join(post) for post in tokens_lem]"
   ]
  },
  {
   "cell_type": "code",
   "execution_count": 44,
   "id": "f86cac54",
   "metadata": {},
   "outputs": [],
   "source": [
    "#replace our text data with new lemmatized data\n",
    "subreddit['title'] = lem_tokens_model"
   ]
  },
  {
   "cell_type": "code",
   "execution_count": 45,
   "id": "c734f125",
   "metadata": {},
   "outputs": [
    {
     "data": {
      "text/html": [
       "<div>\n",
       "<style scoped>\n",
       "    .dataframe tbody tr th:only-of-type {\n",
       "        vertical-align: middle;\n",
       "    }\n",
       "\n",
       "    .dataframe tbody tr th {\n",
       "        vertical-align: top;\n",
       "    }\n",
       "\n",
       "    .dataframe thead th {\n",
       "        text-align: right;\n",
       "    }\n",
       "</style>\n",
       "<table border=\"1\" class=\"dataframe\">\n",
       "  <thead>\n",
       "    <tr style=\"text-align: right;\">\n",
       "      <th></th>\n",
       "      <th>title</th>\n",
       "      <th>subreddit</th>\n",
       "    </tr>\n",
       "  </thead>\n",
       "  <tbody>\n",
       "    <tr>\n",
       "      <th>0</th>\n",
       "      <td>do you have any advice for the soon to be newl...</td>\n",
       "      <td>1</td>\n",
       "    </tr>\n",
       "    <tr>\n",
       "      <th>1</th>\n",
       "      <td>tp type personality pattern ex soccer</td>\n",
       "      <td>1</td>\n",
       "    </tr>\n",
       "    <tr>\n",
       "      <th>2</th>\n",
       "      <td>may pang</td>\n",
       "      <td>1</td>\n",
       "    </tr>\n",
       "    <tr>\n",
       "      <th>3</th>\n",
       "      <td>which type is the most neutral on their belief...</td>\n",
       "      <td>1</td>\n",
       "    </tr>\n",
       "    <tr>\n",
       "      <th>4</th>\n",
       "      <td>doe this seem si dom</td>\n",
       "      <td>1</td>\n",
       "    </tr>\n",
       "    <tr>\n",
       "      <th>5</th>\n",
       "      <td>i want an infj best friend female</td>\n",
       "      <td>1</td>\n",
       "    </tr>\n",
       "    <tr>\n",
       "      <th>6</th>\n",
       "      <td>abrasiveness and the perceiving ax</td>\n",
       "      <td>1</td>\n",
       "    </tr>\n",
       "    <tr>\n",
       "      <th>7</th>\n",
       "      <td>which type have you noticed isfj s tend to end...</td>\n",
       "      <td>1</td>\n",
       "    </tr>\n",
       "    <tr>\n",
       "      <th>8</th>\n",
       "      <td>which type is more likely to be the victim of ...</td>\n",
       "      <td>1</td>\n",
       "    </tr>\n",
       "    <tr>\n",
       "      <th>9</th>\n",
       "      <td>what do you think</td>\n",
       "      <td>1</td>\n",
       "    </tr>\n",
       "    <tr>\n",
       "      <th>10</th>\n",
       "      <td>again te v fe</td>\n",
       "      <td>1</td>\n",
       "    </tr>\n",
       "    <tr>\n",
       "      <th>11</th>\n",
       "      <td>type most likely to continue to hang out with ...</td>\n",
       "      <td>1</td>\n",
       "    </tr>\n",
       "    <tr>\n",
       "      <th>12</th>\n",
       "      <td>question</td>\n",
       "      <td>1</td>\n",
       "    </tr>\n",
       "    <tr>\n",
       "      <th>13</th>\n",
       "      <td>your mbti and a genre you re fond of</td>\n",
       "      <td>1</td>\n",
       "    </tr>\n",
       "    <tr>\n",
       "      <th>14</th>\n",
       "      <td>isfp boy and intp girl relationship</td>\n",
       "      <td>1</td>\n",
       "    </tr>\n",
       "    <tr>\n",
       "      <th>15</th>\n",
       "      <td>im stuck in what is my mbti</td>\n",
       "      <td>1</td>\n",
       "    </tr>\n",
       "    <tr>\n",
       "      <th>16</th>\n",
       "      <td>intj v infj</td>\n",
       "      <td>1</td>\n",
       "    </tr>\n",
       "    <tr>\n",
       "      <th>17</th>\n",
       "      <td>stacy from fast time at ridgemont high isfj or...</td>\n",
       "      <td>1</td>\n",
       "    </tr>\n",
       "    <tr>\n",
       "      <th>18</th>\n",
       "      <td>would you ever lie about your personality type</td>\n",
       "      <td>1</td>\n",
       "    </tr>\n",
       "    <tr>\n",
       "      <th>19</th>\n",
       "      <td>which type would brag the hardest to everyone ...</td>\n",
       "      <td>1</td>\n",
       "    </tr>\n",
       "    <tr>\n",
       "      <th>20</th>\n",
       "      <td>type most likely to suggest that an isfj is hi...</td>\n",
       "      <td>1</td>\n",
       "    </tr>\n",
       "    <tr>\n",
       "      <th>21</th>\n",
       "      <td>infjs in fiction v infjs irl</td>\n",
       "      <td>1</td>\n",
       "    </tr>\n",
       "    <tr>\n",
       "      <th>22</th>\n",
       "      <td>could an isfj be very spacey</td>\n",
       "      <td>1</td>\n",
       "    </tr>\n",
       "    <tr>\n",
       "      <th>23</th>\n",
       "      <td>do other ppl do this to u too</td>\n",
       "      <td>1</td>\n",
       "    </tr>\n",
       "    <tr>\n",
       "      <th>24</th>\n",
       "      <td>type most likely to find the troll post in r m...</td>\n",
       "      <td>1</td>\n",
       "    </tr>\n",
       "    <tr>\n",
       "      <th>25</th>\n",
       "      <td>what do you think</td>\n",
       "      <td>1</td>\n",
       "    </tr>\n",
       "    <tr>\n",
       "      <th>26</th>\n",
       "      <td>what do you think she is</td>\n",
       "      <td>1</td>\n",
       "    </tr>\n",
       "    <tr>\n",
       "      <th>27</th>\n",
       "      <td>what do you think her type is</td>\n",
       "      <td>1</td>\n",
       "    </tr>\n",
       "    <tr>\n",
       "      <th>28</th>\n",
       "      <td>what are the difference between enfp girl and ...</td>\n",
       "      <td>1</td>\n",
       "    </tr>\n",
       "    <tr>\n",
       "      <th>29</th>\n",
       "      <td>do you believe in soulmates</td>\n",
       "      <td>1</td>\n",
       "    </tr>\n",
       "  </tbody>\n",
       "</table>\n",
       "</div>"
      ],
      "text/plain": [
       "                                                title  subreddit\n",
       "0   do you have any advice for the soon to be newl...          1\n",
       "1               tp type personality pattern ex soccer          1\n",
       "2                                            may pang          1\n",
       "3   which type is the most neutral on their belief...          1\n",
       "4                                doe this seem si dom          1\n",
       "5                   i want an infj best friend female          1\n",
       "6                  abrasiveness and the perceiving ax          1\n",
       "7   which type have you noticed isfj s tend to end...          1\n",
       "8   which type is more likely to be the victim of ...          1\n",
       "9                                   what do you think          1\n",
       "10                                      again te v fe          1\n",
       "11  type most likely to continue to hang out with ...          1\n",
       "12                                           question          1\n",
       "13               your mbti and a genre you re fond of          1\n",
       "14                isfp boy and intp girl relationship          1\n",
       "15                        im stuck in what is my mbti          1\n",
       "16                                        intj v infj          1\n",
       "17  stacy from fast time at ridgemont high isfj or...          1\n",
       "18     would you ever lie about your personality type          1\n",
       "19  which type would brag the hardest to everyone ...          1\n",
       "20  type most likely to suggest that an isfj is hi...          1\n",
       "21                       infjs in fiction v infjs irl          1\n",
       "22                       could an isfj be very spacey          1\n",
       "23                      do other ppl do this to u too          1\n",
       "24  type most likely to find the troll post in r m...          1\n",
       "25                                  what do you think          1\n",
       "26                           what do you think she is          1\n",
       "27                      what do you think her type is          1\n",
       "28  what are the difference between enfp girl and ...          1\n",
       "29                        do you believe in soulmates          1"
      ]
     },
     "execution_count": 45,
     "metadata": {},
     "output_type": "execute_result"
    }
   ],
   "source": [
    "#check to see if it worked\n",
    "subreddit.head(30)"
   ]
  },
  {
   "cell_type": "markdown",
   "id": "ca71ea45",
   "metadata": {},
   "source": [
    "lemmatise X feature is created and going to be using in the model.\n",
    "\n",
    "Next, lets state the X feature and target variable.\n",
    "\n",
    "### Creating X feature and y\n",
    "Create our feature matrix (X) and target vector (y):"
   ]
  },
  {
   "cell_type": "code",
   "execution_count": 46,
   "id": "e70990e2",
   "metadata": {},
   "outputs": [],
   "source": [
    "X = subreddit['title']\n",
    "y = subreddit['subreddit']"
   ]
  },
  {
   "cell_type": "markdown",
   "id": "e3966011",
   "metadata": {},
   "source": [
    "### Train-test Split"
   ]
  },
  {
   "cell_type": "code",
   "execution_count": 47,
   "id": "cee64eca",
   "metadata": {},
   "outputs": [],
   "source": [
    "X_train, X_test, y_train, y_test = train_test_split(X,\n",
    "                                                    y,\n",
    "                                                    test_size=0.33,\n",
    "                                                    stratify=y,\n",
    "                                                    random_state=42)"
   ]
  },
  {
   "cell_type": "code",
   "execution_count": 48,
   "id": "f81fd056",
   "metadata": {},
   "outputs": [
    {
     "data": {
      "text/plain": [
       "3057                          chart ruler in the th house\n",
       "707                    which type hate ambiguity the most\n",
       "2434                            capricorn woman virgo man\n",
       "968     never be able to say i love you v never hear i...\n",
       "886     i m an entj and i don t know how to have fun a...\n",
       "Name: title, dtype: object"
      ]
     },
     "execution_count": 48,
     "metadata": {},
     "output_type": "execute_result"
    }
   ],
   "source": [
    "#check to see if it worked \n",
    "X_test.head()"
   ]
  },
  {
   "cell_type": "markdown",
   "id": "56c354df",
   "metadata": {},
   "source": [
    "Finally, we can determine our baseline score.\n",
    "\n",
    "### Determing the Baseline Score\n",
    "The baseline score is actually an accuracy score. It is the percentage of the majority class, regardless of whether our y is 1 or 0. It will serve as the benchmark for our classification models to beat."
   ]
  },
  {
   "cell_type": "code",
   "execution_count": 49,
   "id": "6c208d25",
   "metadata": {},
   "outputs": [
    {
     "data": {
      "text/plain": [
       "0    0.572683\n",
       "1    0.427317\n",
       "Name: subreddit, dtype: float64"
      ]
     },
     "execution_count": 49,
     "metadata": {},
     "output_type": "execute_result"
    }
   ],
   "source": [
    "y_test.value_counts(normalize = True)"
   ]
  },
  {
   "cell_type": "markdown",
   "id": "2440aa9b",
   "metadata": {},
   "source": [
    "The majority class end up being r/astrology = 0 because this subreddit has more posts included in y. Therefore, our baseline accuracy is about 0.57. And each time we see a post, it is predicted to be r/astrology.\n",
    "\n",
    "Let's move on to modelling!"
   ]
  },
  {
   "cell_type": "markdown",
   "id": "301a0897",
   "metadata": {},
   "source": [
    "### Modeling\n",
    "I am going to use four different classification models to determine how accurate it is towards our problem statement with it's accuracy score. We will model: Logistic Regression, Bernoulli Naive Bayes, Bagged Decision Tree, and Random Forest.\n",
    "\n",
    "For Logistic Regression and Bernoulli Naive Bayes, we will use TfidfVectorizer as a transformer. TfidfVectorizer is another classification model that penalizes words in our dataset that are common across all posts in the corpus.\n",
    "\n",
    "I determine parameters for Logistic Regression and Random Forest models. A parameter sets the conditions of its models.\n",
    "\n",
    "Additionally, I need to transform our Logistic Regression and Random Forest models to GridSearchCV model. GridSearchCV helps us tune our parameters.\n",
    "\n",
    "Then I will supplement each model with there repected confusion matrix. Based on the confusion matrix, I am able to determine what was correctly classified and misclassified. This is important because it determines the second half of our problem statement. In other words, we want to see if each model can correctly classify where each post came from in the dataset."
   ]
  },
  {
   "cell_type": "markdown",
   "id": "a17ea842",
   "metadata": {},
   "source": [
    "#### Logistic Regression Model\n",
    "Logistic regression is the most common binary classification algorithm. The goal of our logistic regression model is to describe the relationship between our binary outcome which is our target variable and an independent variable which is our X feature.\n",
    "\n",
    "We will begin by instantiating a pipeline with TfidfVectorizer and LogisticRegression. Then, we will determine our parameters for our pipeline. Then, we will transform our model to a GridSearchCV. Then, we will fit our training dataset. Finally, we will able to get our training and testing accuracy scores.\n",
    "\n",
    "For our supplemental piece, we will create a confusion matrix.\n",
    "\n",
    "Instantiatie Pipeline with TfidfVectorizer() & LogisticRegression()"
   ]
  },
  {
   "cell_type": "code",
   "execution_count": 50,
   "id": "11bd7dad",
   "metadata": {},
   "outputs": [],
   "source": [
    "pipe = Pipeline([\n",
    "    ('vectorizer', TfidfVectorizer()), \n",
    "    ('lr', LogisticRegression(solver = 'liblinear', #making sure we have our slover as liblinear\n",
    "                              random_state = 42))#creating the random state as 42\n",
    "])"
   ]
  },
  {
   "cell_type": "markdown",
   "id": "ca21cc0e",
   "metadata": {},
   "source": [
    "Using the .get_params attribute, I am able to get the parameters for this pipeline"
   ]
  },
  {
   "cell_type": "code",
   "execution_count": 51,
   "id": "dccd5e85",
   "metadata": {},
   "outputs": [],
   "source": [
    "#got our parameters by trial and error\n",
    "pipe_params = {\n",
    "    'vectorizer__max_features': [1000, 2500, 5000], #include the 𝑁 most popular vocabulary words in the corpus\n",
    "    'vectorizer__ngram_range': [(1,1), (1,2)],#capture 𝑛 -word phrases\n",
    "    \"vectorizer__norm\":         ['l1', 'l2'],#using Lasso and Ridge \n",
    "    \"vectorizer__stop_words\":   ['english'],#taking away the english stopwords\n",
    "    'lr__penalty':              ['l1', 'l2'],#using Lasso and Ridge \n",
    "    'lr__C':                    [2.0],#Inverse of regularization strength\n",
    "    \n",
    "}"
   ]
  },
  {
   "cell_type": "markdown",
   "id": "b94e4896",
   "metadata": {},
   "source": [
    "Transform to GridSearchCV"
   ]
  },
  {
   "cell_type": "code",
   "execution_count": 52,
   "id": "887d0d1a",
   "metadata": {},
   "outputs": [],
   "source": [
    "gs = GridSearchCV(pipe, #use the data which is pipe\n",
    "                  param_grid = pipe_params, #using our custom parameters\n",
    "                  cv = 5)#cv 5 times"
   ]
  },
  {
   "cell_type": "markdown",
   "id": "767eba35",
   "metadata": {},
   "source": [
    "Fit the model"
   ]
  },
  {
   "cell_type": "code",
   "execution_count": 53,
   "id": "612b23b8",
   "metadata": {},
   "outputs": [
    {
     "name": "stderr",
     "output_type": "stream",
     "text": [
      "/Users/guiwaisiong/opt/anaconda3/lib/python3.9/site-packages/sklearn/svm/_base.py:985: ConvergenceWarning: Liblinear failed to converge, increase the number of iterations.\n",
      "  warnings.warn(\"Liblinear failed to converge, increase \"\n",
      "/Users/guiwaisiong/opt/anaconda3/lib/python3.9/site-packages/sklearn/svm/_base.py:985: ConvergenceWarning: Liblinear failed to converge, increase the number of iterations.\n",
      "  warnings.warn(\"Liblinear failed to converge, increase \"\n"
     ]
    }
   ],
   "source": [
    "gs.fit(X_train, y_train);"
   ]
  },
  {
   "cell_type": "markdown",
   "id": "3bed793f",
   "metadata": {},
   "source": [
    "Obtaining the best estimator and parameters"
   ]
  },
  {
   "cell_type": "code",
   "execution_count": 54,
   "id": "80ed75ea",
   "metadata": {},
   "outputs": [
    {
     "name": "stdout",
     "output_type": "stream",
     "text": [
      "0.920625579240037\n"
     ]
    },
    {
     "data": {
      "text/plain": [
       "{'lr__C': 2.0,\n",
       " 'lr__penalty': 'l2',\n",
       " 'vectorizer__max_features': 1000,\n",
       " 'vectorizer__ngram_range': (1, 2),\n",
       " 'vectorizer__norm': 'l2',\n",
       " 'vectorizer__stop_words': 'english'}"
      ]
     },
     "execution_count": 54,
     "metadata": {},
     "output_type": "execute_result"
    }
   ],
   "source": [
    "print(gs.best_score_) \n",
    "gs.best_params_"
   ]
  },
  {
   "cell_type": "markdown",
   "id": "5c5c7ada",
   "metadata": {},
   "source": [
    "The best model estimator is about 0.920."
   ]
  },
  {
   "cell_type": "code",
   "execution_count": 55,
   "id": "37064d05",
   "metadata": {},
   "outputs": [],
   "source": [
    "#Save best model as gs_model.\n",
    "gs_model = gs.best_estimator_"
   ]
  },
  {
   "cell_type": "markdown",
   "id": "0bccf5fc",
   "metadata": {},
   "source": [
    "**Accuracy training score**"
   ]
  },
  {
   "cell_type": "code",
   "execution_count": 56,
   "id": "60ea38ee",
   "metadata": {},
   "outputs": [
    {
     "data": {
      "text/plain": [
       "0.963924963924964"
      ]
     },
     "execution_count": 56,
     "metadata": {},
     "output_type": "execute_result"
    }
   ],
   "source": [
    "gs_model.score(X_train, y_train)"
   ]
  },
  {
   "cell_type": "markdown",
   "id": "f7c63799",
   "metadata": {},
   "source": [
    "The accuracy score on our training data set is about 0.963.\n",
    "\n",
    "**Accuracy testing score**"
   ]
  },
  {
   "cell_type": "code",
   "execution_count": 57,
   "id": "8f5dad69",
   "metadata": {},
   "outputs": [
    {
     "data": {
      "text/plain": [
       "0.9307317073170732"
      ]
     },
     "execution_count": 57,
     "metadata": {},
     "output_type": "execute_result"
    }
   ],
   "source": [
    "gs_model.score(X_test, y_test)"
   ]
  },
  {
   "cell_type": "markdown",
   "id": "a3c74fc3",
   "metadata": {},
   "source": [
    "The accuracy score on our testing data set is about 0.93.\n",
    "\n",
    "Next, lets create our confusion matrix.\n",
    "\n",
    "#### LR: Confusion Matrix\n",
    "The confusion matrix we will create our true values and predicted values.\n",
    "\n",
    "Getting our testing predictions"
   ]
  },
  {
   "cell_type": "code",
   "execution_count": 58,
   "id": "27160a19",
   "metadata": {},
   "outputs": [],
   "source": [
    "preds_test = gs.predict(X_test)"
   ]
  },
  {
   "cell_type": "code",
   "execution_count": 59,
   "id": "010a2b76",
   "metadata": {},
   "outputs": [],
   "source": [
    "cm = confusion_matrix(y_test, # True values.\n",
    "                 preds_test)  # Predicted values."
   ]
  },
  {
   "cell_type": "code",
   "execution_count": 60,
   "id": "dd03b5a0",
   "metadata": {},
   "outputs": [
    {
     "data": {
      "text/html": [
       "<div>\n",
       "<style scoped>\n",
       "    .dataframe tbody tr th:only-of-type {\n",
       "        vertical-align: middle;\n",
       "    }\n",
       "\n",
       "    .dataframe tbody tr th {\n",
       "        vertical-align: top;\n",
       "    }\n",
       "\n",
       "    .dataframe thead th {\n",
       "        text-align: right;\n",
       "    }\n",
       "</style>\n",
       "<table border=\"1\" class=\"dataframe\">\n",
       "  <thead>\n",
       "    <tr style=\"text-align: right;\">\n",
       "      <th></th>\n",
       "      <th>Predicted MBTI</th>\n",
       "      <th>Predicted Astrology</th>\n",
       "    </tr>\n",
       "  </thead>\n",
       "  <tbody>\n",
       "    <tr>\n",
       "      <th>Actual MBTI</th>\n",
       "      <td>571</td>\n",
       "      <td>16</td>\n",
       "    </tr>\n",
       "    <tr>\n",
       "      <th>Actual Astrology</th>\n",
       "      <td>55</td>\n",
       "      <td>383</td>\n",
       "    </tr>\n",
       "  </tbody>\n",
       "</table>\n",
       "</div>"
      ],
      "text/plain": [
       "                  Predicted MBTI  Predicted Astrology\n",
       "Actual MBTI                  571                   16\n",
       "Actual Astrology              55                  383"
      ]
     },
     "execution_count": 60,
     "metadata": {},
     "output_type": "execute_result"
    }
   ],
   "source": [
    "#create a data frame for cm\n",
    "pd.DataFrame(data = cm, \n",
    "             columns = ['Predicted MBTI', 'Predicted Astrology'],\n",
    "             index = ['Actual MBTI', 'Actual Astrology'])"
   ]
  },
  {
   "cell_type": "markdown",
   "id": "3e29af62",
   "metadata": {},
   "source": [
    "Based on the confusion matrix, we was able to determine that out of 1025 posts, 571 + 383 = 954 posts were correctly classified and 55 + 16 = 71 posts were misclassified.\n",
    "\n",
    "Finally, lets move on to our interpretation.\n",
    "\n",
    "#### LR: Interpretation\n",
    "Metrics:\n",
    "\n",
    "The training accuracy score is about 96.3 percent.\n",
    "\n",
    "The testing accuracy score is about 93 percent.\n",
    "\n",
    "The correctly classified posts is 954.\n",
    "\n",
    "The misclassified posts is 71.\n",
    "\n",
    "The training accuracy score is well with our training dataset. The RMSE of our training data has tiny amounts of residuals away from our target variable. Therefore, base on our testing accuracy score, this model will be able to fit well with unknown data if we still use these two subreddit sites.\n",
    "\n",
    "\n",
    "Next, lets model bernoulli nb."
   ]
  },
  {
   "cell_type": "markdown",
   "id": "b859ffa7",
   "metadata": {},
   "source": [
    "#### Bernoulli NB Model\n",
    "Bernoulli Naive Bayes is appropriate when our features are all 0/1 variables which is our target variable. We use this model because it's a very fast modeling algorithm and outperforms more complicated models.\n",
    "\n",
    "I will first use the transformer TfidfVectorizer. Then I will create a new dataframe with our transformer that is the bag of words. A bag of words represents discard grammar, order, and structure in the text but track occurrences. Then, I will use our transformer as our X_train and X_test. Then, I can finally instantiatie our BernoulliNB. Then, I will fit our training dataset. Finally, I will able to get our training and testing accuracy scores.\n",
    "\n",
    "For supplemental piece, I will also create a confusion matrix.\n",
    "\n",
    "Transformer is TfidfVectorizer"
   ]
  },
  {
   "cell_type": "code",
   "execution_count": 61,
   "id": "aec6c607",
   "metadata": {},
   "outputs": [],
   "source": [
    "tvec = TfidfVectorizer()"
   ]
  },
  {
   "cell_type": "markdown",
   "id": "3e3183df",
   "metadata": {},
   "source": [
    "Bag of words"
   ]
  },
  {
   "cell_type": "code",
   "execution_count": 62,
   "id": "8014ab3c",
   "metadata": {},
   "outputs": [],
   "source": [
    "#creating bag of words with dataframe \n",
    "data = pd.DataFrame(tvec.fit_transform(X_train).toarray(), #able to have strings into floats\n",
    "                  columns=tvec.get_feature_names())#make column names with data\n"
   ]
  },
  {
   "cell_type": "code",
   "execution_count": 63,
   "id": "848bb023",
   "metadata": {},
   "outputs": [
    {
     "data": {
      "text/html": [
       "<div>\n",
       "<style scoped>\n",
       "    .dataframe tbody tr th:only-of-type {\n",
       "        vertical-align: middle;\n",
       "    }\n",
       "\n",
       "    .dataframe tbody tr th {\n",
       "        vertical-align: top;\n",
       "    }\n",
       "\n",
       "    .dataframe thead th {\n",
       "        text-align: right;\n",
       "    }\n",
       "</style>\n",
       "<table border=\"1\" class=\"dataframe\">\n",
       "  <thead>\n",
       "    <tr style=\"text-align: right;\">\n",
       "      <th></th>\n",
       "      <th>_____</th>\n",
       "      <th>aaron</th>\n",
       "      <th>ab</th>\n",
       "      <th>abducting</th>\n",
       "      <th>ability</th>\n",
       "      <th>able</th>\n",
       "      <th>aboard</th>\n",
       "      <th>about</th>\n",
       "      <th>absolutely</th>\n",
       "      <th>absorbed</th>\n",
       "      <th>...</th>\n",
       "      <th>yourself</th>\n",
       "      <th>yourselves</th>\n",
       "      <th>youtube</th>\n",
       "      <th>youtuber</th>\n",
       "      <th>youtubers</th>\n",
       "      <th>yr</th>\n",
       "      <th>yt</th>\n",
       "      <th>zodiac</th>\n",
       "      <th>zodiacal</th>\n",
       "      <th>zombie</th>\n",
       "    </tr>\n",
       "  </thead>\n",
       "  <tbody>\n",
       "    <tr>\n",
       "      <th>0</th>\n",
       "      <td>0.0</td>\n",
       "      <td>0.0</td>\n",
       "      <td>0.0</td>\n",
       "      <td>0.0</td>\n",
       "      <td>0.0</td>\n",
       "      <td>0.0</td>\n",
       "      <td>0.0</td>\n",
       "      <td>0.0</td>\n",
       "      <td>0.0</td>\n",
       "      <td>0.0</td>\n",
       "      <td>...</td>\n",
       "      <td>0.0</td>\n",
       "      <td>0.0</td>\n",
       "      <td>0.0</td>\n",
       "      <td>0.0</td>\n",
       "      <td>0.0</td>\n",
       "      <td>0.0</td>\n",
       "      <td>0.0</td>\n",
       "      <td>0.0</td>\n",
       "      <td>0.0</td>\n",
       "      <td>0.0</td>\n",
       "    </tr>\n",
       "    <tr>\n",
       "      <th>1</th>\n",
       "      <td>0.0</td>\n",
       "      <td>0.0</td>\n",
       "      <td>0.0</td>\n",
       "      <td>0.0</td>\n",
       "      <td>0.0</td>\n",
       "      <td>0.0</td>\n",
       "      <td>0.0</td>\n",
       "      <td>0.0</td>\n",
       "      <td>0.0</td>\n",
       "      <td>0.0</td>\n",
       "      <td>...</td>\n",
       "      <td>0.0</td>\n",
       "      <td>0.0</td>\n",
       "      <td>0.0</td>\n",
       "      <td>0.0</td>\n",
       "      <td>0.0</td>\n",
       "      <td>0.0</td>\n",
       "      <td>0.0</td>\n",
       "      <td>0.0</td>\n",
       "      <td>0.0</td>\n",
       "      <td>0.0</td>\n",
       "    </tr>\n",
       "    <tr>\n",
       "      <th>2</th>\n",
       "      <td>0.0</td>\n",
       "      <td>0.0</td>\n",
       "      <td>0.0</td>\n",
       "      <td>0.0</td>\n",
       "      <td>0.0</td>\n",
       "      <td>0.0</td>\n",
       "      <td>0.0</td>\n",
       "      <td>0.0</td>\n",
       "      <td>0.0</td>\n",
       "      <td>0.0</td>\n",
       "      <td>...</td>\n",
       "      <td>0.0</td>\n",
       "      <td>0.0</td>\n",
       "      <td>0.0</td>\n",
       "      <td>0.0</td>\n",
       "      <td>0.0</td>\n",
       "      <td>0.0</td>\n",
       "      <td>0.0</td>\n",
       "      <td>0.0</td>\n",
       "      <td>0.0</td>\n",
       "      <td>0.0</td>\n",
       "    </tr>\n",
       "    <tr>\n",
       "      <th>3</th>\n",
       "      <td>0.0</td>\n",
       "      <td>0.0</td>\n",
       "      <td>0.0</td>\n",
       "      <td>0.0</td>\n",
       "      <td>0.0</td>\n",
       "      <td>0.0</td>\n",
       "      <td>0.0</td>\n",
       "      <td>0.0</td>\n",
       "      <td>0.0</td>\n",
       "      <td>0.0</td>\n",
       "      <td>...</td>\n",
       "      <td>0.0</td>\n",
       "      <td>0.0</td>\n",
       "      <td>0.0</td>\n",
       "      <td>0.0</td>\n",
       "      <td>0.0</td>\n",
       "      <td>0.0</td>\n",
       "      <td>0.0</td>\n",
       "      <td>0.0</td>\n",
       "      <td>0.0</td>\n",
       "      <td>0.0</td>\n",
       "    </tr>\n",
       "    <tr>\n",
       "      <th>4</th>\n",
       "      <td>0.0</td>\n",
       "      <td>0.0</td>\n",
       "      <td>0.0</td>\n",
       "      <td>0.0</td>\n",
       "      <td>0.0</td>\n",
       "      <td>0.0</td>\n",
       "      <td>0.0</td>\n",
       "      <td>0.0</td>\n",
       "      <td>0.0</td>\n",
       "      <td>0.0</td>\n",
       "      <td>...</td>\n",
       "      <td>0.0</td>\n",
       "      <td>0.0</td>\n",
       "      <td>0.0</td>\n",
       "      <td>0.0</td>\n",
       "      <td>0.0</td>\n",
       "      <td>0.0</td>\n",
       "      <td>0.0</td>\n",
       "      <td>0.0</td>\n",
       "      <td>0.0</td>\n",
       "      <td>0.0</td>\n",
       "    </tr>\n",
       "  </tbody>\n",
       "</table>\n",
       "<p>5 rows × 2650 columns</p>\n",
       "</div>"
      ],
      "text/plain": [
       "   _____  aaron   ab  abducting  ability  able  aboard  about  absolutely  \\\n",
       "0    0.0    0.0  0.0        0.0      0.0   0.0     0.0    0.0         0.0   \n",
       "1    0.0    0.0  0.0        0.0      0.0   0.0     0.0    0.0         0.0   \n",
       "2    0.0    0.0  0.0        0.0      0.0   0.0     0.0    0.0         0.0   \n",
       "3    0.0    0.0  0.0        0.0      0.0   0.0     0.0    0.0         0.0   \n",
       "4    0.0    0.0  0.0        0.0      0.0   0.0     0.0    0.0         0.0   \n",
       "\n",
       "   absorbed  ...  yourself  yourselves  youtube  youtuber  youtubers   yr  \\\n",
       "0       0.0  ...       0.0         0.0      0.0       0.0        0.0  0.0   \n",
       "1       0.0  ...       0.0         0.0      0.0       0.0        0.0  0.0   \n",
       "2       0.0  ...       0.0         0.0      0.0       0.0        0.0  0.0   \n",
       "3       0.0  ...       0.0         0.0      0.0       0.0        0.0  0.0   \n",
       "4       0.0  ...       0.0         0.0      0.0       0.0        0.0  0.0   \n",
       "\n",
       "    yt  zodiac  zodiacal  zombie  \n",
       "0  0.0     0.0       0.0     0.0  \n",
       "1  0.0     0.0       0.0     0.0  \n",
       "2  0.0     0.0       0.0     0.0  \n",
       "3  0.0     0.0       0.0     0.0  \n",
       "4  0.0     0.0       0.0     0.0  \n",
       "\n",
       "[5 rows x 2650 columns]"
      ]
     },
     "execution_count": 63,
     "metadata": {},
     "output_type": "execute_result"
    }
   ],
   "source": [
    "#checking to see if it worked\n",
    "data.head()"
   ]
  },
  {
   "cell_type": "markdown",
   "id": "a4825c27",
   "metadata": {},
   "source": [
    "Transformer training and testing feature"
   ]
  },
  {
   "cell_type": "code",
   "execution_count": 64,
   "id": "b3cf1853",
   "metadata": {},
   "outputs": [],
   "source": [
    "X_train = tvec.transform(X_train)\n",
    "\n",
    "X_test = tvec.transform(X_test)"
   ]
  },
  {
   "cell_type": "markdown",
   "id": "e02520ba",
   "metadata": {},
   "source": [
    "Instantiatie the model"
   ]
  },
  {
   "cell_type": "code",
   "execution_count": 65,
   "id": "2bc74139",
   "metadata": {},
   "outputs": [],
   "source": [
    "br = BernoulliNB()"
   ]
  },
  {
   "cell_type": "markdown",
   "id": "dc5314b2",
   "metadata": {},
   "source": [
    "Fit the model"
   ]
  },
  {
   "cell_type": "code",
   "execution_count": 66,
   "id": "62406e28",
   "metadata": {},
   "outputs": [],
   "source": [
    "br.fit(X_train, y_train);\n"
   ]
  },
  {
   "cell_type": "markdown",
   "id": "2dac0883",
   "metadata": {},
   "source": [
    "**Accuracy testing score**"
   ]
  },
  {
   "cell_type": "code",
   "execution_count": 67,
   "id": "1d482538",
   "metadata": {},
   "outputs": [
    {
     "data": {
      "text/plain": [
       "0.9473170731707317"
      ]
     },
     "execution_count": 67,
     "metadata": {},
     "output_type": "execute_result"
    }
   ],
   "source": [
    "br.score(X_test, y_test)"
   ]
  },
  {
   "cell_type": "markdown",
   "id": "5c4441a8",
   "metadata": {},
   "source": [
    "The accuracy score on our testing data set is about 0.947.\n",
    "\n",
    "**Accuracy training score**"
   ]
  },
  {
   "cell_type": "code",
   "execution_count": 68,
   "id": "0d8177e5",
   "metadata": {},
   "outputs": [
    {
     "data": {
      "text/plain": [
       "0.9788359788359788"
      ]
     },
     "execution_count": 68,
     "metadata": {},
     "output_type": "execute_result"
    }
   ],
   "source": [
    "br.score(X_train, y_train)"
   ]
  },
  {
   "cell_type": "markdown",
   "id": "27653960",
   "metadata": {},
   "source": [
    "The accuracy score on our training data set is about 0.978.\n",
    "\n",
    "Next, lets create our confusion matrix.\n",
    "\n",
    "#### NB: Confusion Matrix\n",
    "Getting our testing predictions"
   ]
  },
  {
   "cell_type": "code",
   "execution_count": 69,
   "id": "986c8268",
   "metadata": {},
   "outputs": [],
   "source": [
    "preds_test_1 = br.predict(X_test)"
   ]
  },
  {
   "cell_type": "code",
   "execution_count": 70,
   "id": "81b155ac",
   "metadata": {},
   "outputs": [],
   "source": [
    "cm_1 = confusion_matrix(y_test, # True values.\n",
    "                 preds_test_1)  # Predicted values."
   ]
  },
  {
   "cell_type": "code",
   "execution_count": 71,
   "id": "fb28ab69",
   "metadata": {},
   "outputs": [
    {
     "data": {
      "text/html": [
       "<div>\n",
       "<style scoped>\n",
       "    .dataframe tbody tr th:only-of-type {\n",
       "        vertical-align: middle;\n",
       "    }\n",
       "\n",
       "    .dataframe tbody tr th {\n",
       "        vertical-align: top;\n",
       "    }\n",
       "\n",
       "    .dataframe thead th {\n",
       "        text-align: right;\n",
       "    }\n",
       "</style>\n",
       "<table border=\"1\" class=\"dataframe\">\n",
       "  <thead>\n",
       "    <tr style=\"text-align: right;\">\n",
       "      <th></th>\n",
       "      <th>Predicted MBTI</th>\n",
       "      <th>Predicted astrology</th>\n",
       "    </tr>\n",
       "  </thead>\n",
       "  <tbody>\n",
       "    <tr>\n",
       "      <th>Actual MBTI</th>\n",
       "      <td>566</td>\n",
       "      <td>21</td>\n",
       "    </tr>\n",
       "    <tr>\n",
       "      <th>Actual Astrology</th>\n",
       "      <td>33</td>\n",
       "      <td>405</td>\n",
       "    </tr>\n",
       "  </tbody>\n",
       "</table>\n",
       "</div>"
      ],
      "text/plain": [
       "                  Predicted MBTI  Predicted astrology\n",
       "Actual MBTI                  566                   21\n",
       "Actual Astrology              33                  405"
      ]
     },
     "execution_count": 71,
     "metadata": {},
     "output_type": "execute_result"
    }
   ],
   "source": [
    "#create a data frame for cm_1\n",
    "pd.DataFrame(data = cm_1, \n",
    "             columns = ['Predicted MBTI', 'Predicted astrology'],\n",
    "             index = ['Actual MBTI', 'Actual Astrology'])"
   ]
  },
  {
   "cell_type": "markdown",
   "id": "a34e197c",
   "metadata": {},
   "source": [
    "Based on the confusion matrix, we was able to determine that out of 1025 posts, 971 posts were correctly classified and 54 posts were misclassified.\n",
    "\n",
    "Finally, lets move on to our interpretation.\n",
    "\n",
    "#### NB: Interpretation\n",
    "Metrics:\n",
    "\n",
    "The training accuracy score is about 97.4 percent.\n",
    "\n",
    "The testing accuracy score is about 94.8 percent.\n",
    "\n",
    "The correctly classified posts is 971.\n",
    "\n",
    "The misclassified posts is 54.\n",
    "\n",
    "The training accuracy score fits really well with our training dataset. The RMSE of our training data has small amount of residuals away from our target variable. Therefore, base on our testing accuracy score, this model will be able to fit well with unknown data if we still use these two subreddit sites.\n",
    "\n",
    "Next, lets model bagged decision tree.\n",
    "\n"
   ]
  },
  {
   "cell_type": "markdown",
   "id": "8a7dfc0b",
   "metadata": {},
   "source": [
    "#### Bagged Decision Tree\n",
    "Decision trees have limitations. In particular, trees that are grown very deep tend to learn highly irregular patterns. Thus, we will be using a Bagged Decision Tree Model. BDT fixes this problem by exposing different trees to different sub-samples of the training set.\n",
    " \n",
    "First I instantiate the BaggingClassifier. Then, I will fit in training. Finally, I able to get our training and testing accuracy scores.\n",
    "\n",
    "For supplemental piece, I will also create a confusion matrix.\n",
    "\n",
    "Instantiate BaggingClassifier."
   ]
  },
  {
   "cell_type": "code",
   "execution_count": 72,
   "id": "4693730c",
   "metadata": {},
   "outputs": [],
   "source": [
    "bag = BaggingClassifier(random_state = 42)#using random state 42"
   ]
  },
  {
   "cell_type": "markdown",
   "id": "1a72581a",
   "metadata": {},
   "source": [
    "Fit the model"
   ]
  },
  {
   "cell_type": "code",
   "execution_count": 73,
   "id": "fa5fd2f1",
   "metadata": {},
   "outputs": [],
   "source": [
    "bag.fit(X_train, y_train);"
   ]
  },
  {
   "cell_type": "markdown",
   "id": "d8da39e9",
   "metadata": {},
   "source": [
    "Accuracy training score"
   ]
  },
  {
   "cell_type": "code",
   "execution_count": 74,
   "id": "3e4b1386",
   "metadata": {},
   "outputs": [
    {
     "data": {
      "text/plain": [
       "0.9913419913419913"
      ]
     },
     "execution_count": 74,
     "metadata": {},
     "output_type": "execute_result"
    }
   ],
   "source": [
    "bag.score(X_train, y_train)"
   ]
  },
  {
   "cell_type": "markdown",
   "id": "1ee67d3e",
   "metadata": {},
   "source": [
    "The accuracy score on our training data set is about 0.991.\n",
    "\n",
    "Accuracy testing score"
   ]
  },
  {
   "cell_type": "code",
   "execution_count": 75,
   "id": "d41f77ea",
   "metadata": {},
   "outputs": [
    {
     "data": {
      "text/plain": [
       "0.895609756097561"
      ]
     },
     "execution_count": 75,
     "metadata": {},
     "output_type": "execute_result"
    }
   ],
   "source": [
    "bag.score(X_test, y_test)"
   ]
  },
  {
   "cell_type": "markdown",
   "id": "5205abff",
   "metadata": {},
   "source": [
    "The accuracy score on our testing data set is about 0.895.\n",
    "\n",
    "Next, lets create our confusion matrix.\n",
    "\n",
    "#### BDT: Confusion Matrix\n",
    "Getting our testing predictions"
   ]
  },
  {
   "cell_type": "code",
   "execution_count": 76,
   "id": "9a9d63b1",
   "metadata": {},
   "outputs": [],
   "source": [
    "preds_test_3 = bag.predict(X_test)"
   ]
  },
  {
   "cell_type": "code",
   "execution_count": 77,
   "id": "7f6cfdab",
   "metadata": {},
   "outputs": [],
   "source": [
    "cm_3 = confusion_matrix(y_test, # True values.\n",
    "                 preds_test_3)  # Predicted values."
   ]
  },
  {
   "cell_type": "code",
   "execution_count": 78,
   "id": "cc1d8770",
   "metadata": {},
   "outputs": [
    {
     "data": {
      "text/html": [
       "<div>\n",
       "<style scoped>\n",
       "    .dataframe tbody tr th:only-of-type {\n",
       "        vertical-align: middle;\n",
       "    }\n",
       "\n",
       "    .dataframe tbody tr th {\n",
       "        vertical-align: top;\n",
       "    }\n",
       "\n",
       "    .dataframe thead th {\n",
       "        text-align: right;\n",
       "    }\n",
       "</style>\n",
       "<table border=\"1\" class=\"dataframe\">\n",
       "  <thead>\n",
       "    <tr style=\"text-align: right;\">\n",
       "      <th></th>\n",
       "      <th>Predicted MBTI</th>\n",
       "      <th>Predicted astrology</th>\n",
       "    </tr>\n",
       "  </thead>\n",
       "  <tbody>\n",
       "    <tr>\n",
       "      <th>Actual MBTI</th>\n",
       "      <td>564</td>\n",
       "      <td>23</td>\n",
       "    </tr>\n",
       "    <tr>\n",
       "      <th>Actual Astrology</th>\n",
       "      <td>84</td>\n",
       "      <td>354</td>\n",
       "    </tr>\n",
       "  </tbody>\n",
       "</table>\n",
       "</div>"
      ],
      "text/plain": [
       "                  Predicted MBTI  Predicted astrology\n",
       "Actual MBTI                  564                   23\n",
       "Actual Astrology              84                  354"
      ]
     },
     "execution_count": 78,
     "metadata": {},
     "output_type": "execute_result"
    }
   ],
   "source": [
    "#create a data frame for cm_3\n",
    "pd.DataFrame(data = cm_3, \n",
    "             columns = ['Predicted MBTI', 'Predicted astrology'],\n",
    "             index = ['Actual MBTI', 'Actual Astrology'])"
   ]
  },
  {
   "cell_type": "markdown",
   "id": "2b6c63c2",
   "metadata": {},
   "source": [
    "Based on the confusion matrix, we was able to determine that out of 1025 posts, 918 posts were correctly classified and 107 posts were misclassified.\n",
    "\n",
    "Finally, lets move on to our interpretation.\n",
    "\n",
    "#### BDT: Interpretation\n",
    "\n",
    "Metrics:\n",
    "\n",
    "The training accuracy score is about 99.1 percent.\n",
    "\n",
    "The testing accuracy score is about 89.5 percent.\n",
    "\n",
    "The correctly classified posts is 918.\n",
    "\n",
    "The misclassified posts is 107.\n",
    "\n",
    "The training accuracy score fits extremely well with our training dataset. The RMSE of our training data has small amount of residuals away from our target variable. The testing accuracy score fits less with our training data. And the RMSE of our testing data has more residuals away from our target variable.\n",
    "\n",
    "\n",
    "Finally, lets model random forest."
   ]
  },
  {
   "cell_type": "markdown",
   "id": "25367180",
   "metadata": {},
   "source": [
    "#### Random Forest Model\n",
    "Random Forest are very similar to Bagged Decision Trees. Yet, the difference is only a subset of features are selected at random out of the total. In other words, the best split feature from the subset is used to split each node in a tree.\n",
    "\n",
    "I begin by instantiating Random Forest. Then, I determine our parameters. Then, I will transform our model to a GridSearchCV. Then, I will fit the training dataset. Finally, I get our training and testing accuracy scores.\n",
    "\n",
    "For supplemental piece, I create a confusion matrix.\n",
    "\n",
    "Instantiatie RandomForestClassifier"
   ]
  },
  {
   "cell_type": "code",
   "execution_count": 79,
   "id": "8a6961d1",
   "metadata": {},
   "outputs": [],
   "source": [
    "#trying find the best split point in our fetaures\n",
    "rf = RandomForestClassifier(random_state = 42)"
   ]
  },
  {
   "cell_type": "markdown",
   "id": "b2923cd3",
   "metadata": {},
   "source": [
    "Using the .get_params attribute, we were able to get the parameters"
   ]
  },
  {
   "cell_type": "code",
   "execution_count": 80,
   "id": "4dd01d4a",
   "metadata": {},
   "outputs": [],
   "source": [
    "#got our parameters by trial and error\n",
    "rf_params = {\n",
    "    'n_estimators': [110, 150],\n",
    "    'max_depth': [None, 4, 6],\n",
    "    'criterion': ['gini']\n",
    "}"
   ]
  },
  {
   "cell_type": "markdown",
   "id": "b6a31521",
   "metadata": {},
   "source": [
    "Transform to GridSearchCV"
   ]
  },
  {
   "cell_type": "code",
   "execution_count": 81,
   "id": "aff1904e",
   "metadata": {},
   "outputs": [],
   "source": [
    "gs_2 = GridSearchCV(rf, param_grid=rf_params, cv=5)"
   ]
  },
  {
   "cell_type": "markdown",
   "id": "e53e798f",
   "metadata": {},
   "source": [
    "Fit the model"
   ]
  },
  {
   "cell_type": "code",
   "execution_count": 82,
   "id": "f32c6197",
   "metadata": {},
   "outputs": [],
   "source": [
    "gs_2.fit(X_train, y_train);"
   ]
  },
  {
   "cell_type": "markdown",
   "id": "70c1472a",
   "metadata": {},
   "source": [
    "Obtaining the best estimator and parameters"
   ]
  },
  {
   "cell_type": "code",
   "execution_count": 83,
   "id": "58f24008",
   "metadata": {},
   "outputs": [
    {
     "name": "stdout",
     "output_type": "stream",
     "text": [
      "0.9061943929564411\n"
     ]
    },
    {
     "data": {
      "text/plain": [
       "{'criterion': 'gini', 'max_depth': None, 'n_estimators': 110}"
      ]
     },
     "execution_count": 83,
     "metadata": {},
     "output_type": "execute_result"
    }
   ],
   "source": [
    "print(gs_2.best_score_) \n",
    "gs_2.best_params_"
   ]
  },
  {
   "cell_type": "markdown",
   "id": "ac3b104d",
   "metadata": {},
   "source": [
    "The best model estimator is about 0.90."
   ]
  },
  {
   "cell_type": "code",
   "execution_count": 84,
   "id": "5f3bc36b",
   "metadata": {},
   "outputs": [],
   "source": [
    "gs_model_2 = gs_2.best_estimator_"
   ]
  },
  {
   "cell_type": "markdown",
   "id": "b7de6d20",
   "metadata": {},
   "source": [
    "Accuracy training score"
   ]
  },
  {
   "cell_type": "code",
   "execution_count": 85,
   "id": "c487a283",
   "metadata": {},
   "outputs": [
    {
     "data": {
      "text/plain": [
       "0.9980759980759981"
      ]
     },
     "execution_count": 85,
     "metadata": {},
     "output_type": "execute_result"
    }
   ],
   "source": [
    "gs_model_2.score(X_train, y_train)"
   ]
  },
  {
   "cell_type": "markdown",
   "id": "bf2a7c5e",
   "metadata": {},
   "source": [
    "The accuracy score on our training data set is about 0.998.\n",
    "\n",
    "Accuracy testing score"
   ]
  },
  {
   "cell_type": "code",
   "execution_count": 86,
   "id": "d0573041",
   "metadata": {},
   "outputs": [
    {
     "data": {
      "text/plain": [
       "0.9131707317073171"
      ]
     },
     "execution_count": 86,
     "metadata": {},
     "output_type": "execute_result"
    }
   ],
   "source": [
    "gs_model_2.score(X_test, y_test)"
   ]
  },
  {
   "cell_type": "markdown",
   "id": "f91d44da",
   "metadata": {},
   "source": [
    "The accuracy score on our testing data set is about 0.778.\n",
    "\n",
    "Next, lets create our confusion matrix.\n",
    "\n",
    "#### RFM: Confusion Matrix\n",
    "The confusion matrix we will create has our true values and predicted values."
   ]
  },
  {
   "cell_type": "code",
   "execution_count": 87,
   "id": "fab1b217",
   "metadata": {},
   "outputs": [],
   "source": [
    "preds_test_4 = gs_2.predict(X_test)"
   ]
  },
  {
   "cell_type": "code",
   "execution_count": 88,
   "id": "14869743",
   "metadata": {},
   "outputs": [],
   "source": [
    "cm_4 = confusion_matrix(y_test, # True values.\n",
    "                 preds_test_4)  # Predicted values."
   ]
  },
  {
   "cell_type": "code",
   "execution_count": 89,
   "id": "efc3c610",
   "metadata": {},
   "outputs": [
    {
     "data": {
      "text/html": [
       "<div>\n",
       "<style scoped>\n",
       "    .dataframe tbody tr th:only-of-type {\n",
       "        vertical-align: middle;\n",
       "    }\n",
       "\n",
       "    .dataframe tbody tr th {\n",
       "        vertical-align: top;\n",
       "    }\n",
       "\n",
       "    .dataframe thead th {\n",
       "        text-align: right;\n",
       "    }\n",
       "</style>\n",
       "<table border=\"1\" class=\"dataframe\">\n",
       "  <thead>\n",
       "    <tr style=\"text-align: right;\">\n",
       "      <th></th>\n",
       "      <th>Predicted MBTI</th>\n",
       "      <th>Predicted Astrology</th>\n",
       "    </tr>\n",
       "  </thead>\n",
       "  <tbody>\n",
       "    <tr>\n",
       "      <th>Actual MBTI</th>\n",
       "      <td>542</td>\n",
       "      <td>45</td>\n",
       "    </tr>\n",
       "    <tr>\n",
       "      <th>Actual Astrology</th>\n",
       "      <td>44</td>\n",
       "      <td>394</td>\n",
       "    </tr>\n",
       "  </tbody>\n",
       "</table>\n",
       "</div>"
      ],
      "text/plain": [
       "                  Predicted MBTI  Predicted Astrology\n",
       "Actual MBTI                  542                   45\n",
       "Actual Astrology              44                  394"
      ]
     },
     "execution_count": 89,
     "metadata": {},
     "output_type": "execute_result"
    }
   ],
   "source": [
    "#create a data frame for cm_4\n",
    "pd.DataFrame(data = cm_4, \n",
    "             columns = ['Predicted MBTI', 'Predicted Astrology'],\n",
    "             index = ['Actual MBTI', 'Actual Astrology'])"
   ]
  },
  {
   "cell_type": "markdown",
   "id": "7f134d53",
   "metadata": {},
   "source": [
    "Based on the confusion matrix, we was able to determine that out of 1025 posts, 936 posts were correctly classified and 89 posts were misclassified.\n",
    "\n",
    "Finally, lets move on to our interpretation.\n",
    "\n",
    "#### RF: Interpretation\n",
    "\n",
    "Metrics:\n",
    "\n",
    "The training accuracy score is about 99.8 percent.\n",
    "\n",
    "The testing accuracy score is about 91.3 percent.\n",
    "\n",
    "The correctly classified posts is 936.\n",
    "\n",
    "The misclassified posts is 89.\n",
    "\n",
    "Successes: The training accuracy score fits extremely well with our training dataset. The best out of all of my models. The RMSE of our training data has very small residuals away from our target variable. Therefore, base on our testing accuracy score, this model will be able to fit decently well with unknown data if we still use these two subreddit sites.\n",
    "\n"
   ]
  },
  {
   "cell_type": "markdown",
   "id": "51a13af2",
   "metadata": {},
   "source": [
    "#### ROC Curve\n",
    "\n",
    "I create fake data with 1000 rows samples "
   ]
  },
  {
   "cell_type": "code",
   "execution_count": 90,
   "id": "5e3721c1",
   "metadata": {},
   "outputs": [],
   "source": [
    "#create fake dataset\n",
    "X, y = datasets.make_classification(n_samples=1000,\n",
    "                                    n_features=4,\n",
    "                                    n_informative=3,\n",
    "                                    n_redundant=1,\n",
    "                                    random_state=0)\n",
    "\n",
    "#split dataset into training and testing set\n",
    "X_train, X_test, y_train, y_test = train_test_split(X, y, test_size=.3,random_state=0)"
   ]
  },
  {
   "cell_type": "code",
   "execution_count": 96,
   "id": "9e3b8e1c",
   "metadata": {},
   "outputs": [
    {
     "data": {
      "image/png": "[encoded data removed]",
      "text/plain": [
       "<Figure size 432x288 with 1 Axes>"
      ]
     },
     "metadata": {
      "needs_background": "light"
     },
     "output_type": "display_data"
    }
   ],
   "source": [
    "#set up plotting area\n",
    "plt.figure(0).clf()\n",
    "\n",
    "#fit logistic regression model and plot ROC curve\n",
    "gs = LogisticRegression()\n",
    "gs.fit(X_train, y_train)\n",
    "y_pred = gs.predict_proba(X_test)[:, 1]\n",
    "fpr, tpr, _ = metrics.roc_curve(y_test, y_pred)\n",
    "auc = round(metrics.roc_auc_score(y_test, y_pred), 4)\n",
    "plt.plot(fpr,tpr,label=\"Logistic Regression, AUC=\"+str(auc))\n",
    "\n",
    "#fit Bernoulli NB and plot ROC curve\n",
    "br = BernoulliNB()\n",
    "br.fit(X_train, y_train)\n",
    "y_pred = br.predict_proba(X_test)[:, 1]\n",
    "fpr, tpr, _ = metrics.roc_curve(y_test, y_pred)\n",
    "auc = round(metrics.roc_auc_score(y_test, y_pred), 4)\n",
    "plt.plot(fpr,tpr,label=\"Bernoulli NB, AUC=\"+str(auc))\n",
    "\n",
    "#fit Bagged Decision Tree and plot ROC curve\n",
    "bag = BaggingClassifier(random_state = 42)\n",
    "bag.fit(X_train, y_train)\n",
    "y_pred = bag.predict_proba(X_test)[:, 1]\n",
    "fpr, tpr, _ = metrics.roc_curve(y_test, y_pred)\n",
    "auc = round(metrics.roc_auc_score(y_test, y_pred), 4)\n",
    "plt.plot(fpr,tpr,label=\"Bagged Decision Tree, AUC=\"+str(auc))\n",
    "\n",
    "#fit Random forest and plot ROC curve\n",
    "rf = RandomForestClassifier(random_state = 42)\n",
    "rf.fit(X_train, y_train)\n",
    "y_pred = rf.predict_proba(X_test)[:, 1]\n",
    "fpr, tpr, _ = metrics.roc_curve(y_test, y_pred)\n",
    "auc = round(metrics.roc_auc_score(y_test, y_pred), 4)\n",
    "plt.plot(fpr,tpr,label=\"Random Forest, AUC=\"+str(auc))\n",
    "\n",
    "\n",
    "#add legend\n",
    "plt.legend();\n"
   ]
  },
  {
   "cell_type": "markdown",
   "id": "a5f79a1f",
   "metadata": {},
   "source": [
    "### Conclusion and Recommendations\n",
    "\n",
    "| | Model | Training Accuracy Score  | Testing Accuracy Score | Correctly Classified |Misclassified| AUC|\n",
    "|---:|:-------------|:-----------|:------|:------|:----------|:---------|\n",
    "| 1 | Logistic Regression | 0.963  | 0.930  | 945  | 71|0.7902|\n",
    "| 2 | Bernoulli Naive Bayes | 0.974  | 0.948 | 971 | 54|0.8437|\n",
    "| 3 | Bagged Decision Tree | 0.991|0.895|918|107|0.9799|\n",
    "| 4 | Random forest |0.998|0.913|936|89|0.9822|\n",
    "\n",
    "\n",
    "\n",
    "All the classification models: Logistic Regression, Bernoulli Naive Bayes, Bagged Decision Tree, and Random Forest surpassed the baseline accuracy. \n",
    "\n",
    "**Bernoulli Naive Bayes Classification Model** was the best model to test our training data because it was able to manage well with unknown data according to the testing accuracy score. Despite having lower AUC score than both bagged decision tree and random forest.\n",
    "\n",
    "However, the model was still overfit because of low bias and high variance.\n",
    "\n",
    "Despite the overfitting, this model was able to classified similar content from two different web sources: r/mbti and r/astrology. Also it was able to identify where each post came from which subreddit. It had one of the highest in correctly classifying posts which was 971. Therefore, Reddit will be able to implement this model for their studies on this data science topic.\n",
    "\n",
    "Yet, this model still had its limitations. Some of the posts had similar titles and incorrect spelling. It was not able to identify these mishaps because of NLP transformer. In other words, both of these mishaps could of swayed our model results.\n",
    "\n",
    "Also, our model can improve it's accuracy if we further tuned our hyperparameters. Additionally, we could of instantiate the PolynomialFeatures before our model to decrease the overfitting.\n",
    "\n",
    "So we still have some recommendations:\n",
    "\n",
    "- increase the stopword list with more nouns to have a better predictable model (i.e. ‘like’)\n",
    "- Each of the subreddits change over time. thus the result might change\n",
    "- a different model that we had not yet modeled (i.e SLM, Adaboost)"
   ]
  },
  {
   "cell_type": "code",
   "execution_count": null,
   "id": "a9ae9ee2",
   "metadata": {},
   "outputs": [],
   "source": []
  }
 ],
 "metadata": {
  "kernelspec": {
   "display_name": "Python 3 (ipykernel)",
   "language": "python",
   "name": "python3"
  },
  "language_info": {
   "codemirror_mode": {
    "name": "ipython",
    "version": 3
   },
   "file_extension": ".py",
   "mimetype": "text/x-python",
   "name": "python",
   "nbconvert_exporter": "python",
   "pygments_lexer": "ipython3",
   "version": "3.9.7"
  }
 },
 "nbformat": 4,
 "nbformat_minor": 5
}
